{
 "cells": [
  {
   "cell_type": "code",
   "execution_count": 1,
   "id": "a88bbf94",
   "metadata": {},
   "outputs": [],
   "source": [
    "using Plots"
   ]
  },
  {
   "cell_type": "markdown",
   "id": "7ee94af3",
   "metadata": {},
   "source": [
    "From Rudy's paper PRL 120, 223001\n",
    "\n",
    "$$U\\left(\\mathbf{r}, \\omega_L\\right)=-\\frac{2 \\pi a_0^3}{c} I(\\mathbf{r}) \\tilde{\\alpha}\\left(\\omega_L\\right)\n",
    "$$\n",
    "\n",
    ", where $I$ is light intensity, $\\tilde{\\alpha}(\\omega)$ is the dimensionless dynamical polarizability in the unit of a.u.\n",
    "\n",
    "For our optical trap, $\\tilde{\\alpha}_s=184.4$, $\\tilde{\\alpha}_t=1.7$.\n",
    "\n",
    "### Define constants:"
   ]
  },
  {
   "cell_type": "code",
   "execution_count": 30,
   "id": "1110f92c",
   "metadata": {},
   "outputs": [],
   "source": [
    "h = 6.62607*10^-34;\n",
    "c = 299792458;\n",
    "mdy =2.69007329*10^-25;\n",
    "a₀ =  5.29177210903*10^−11; \n",
    "αs = 184.4;\n",
    "αt = 1.7;\n",
    "const J=8;"
   ]
  },
  {
   "cell_type": "markdown",
   "id": "a563f32e",
   "metadata": {},
   "source": [
    "For a Gaussian laser beam, the central region(trap depth U) can be approximated by a harmonic potential.\n",
    "The corresponding radial trap frequency \n",
    "\n",
    "$$\n",
    "\\omega_r=\\sqrt{\\frac{4 \\hat{U}}{m w_0^2}}=\\sqrt{\\frac{16 a_0^3}{c} \\frac{P}{w_0^4} \\frac{\\tilde{\\alpha}\\left(\\omega_L\\right)}{m}}\n",
    "$$\n",
    "\n",
    "is determined by the laser beam parameters (power P and waist w0) and atomic properties"
   ]
  },
  {
   "cell_type": "code",
   "execution_count": 25,
   "id": "7a7c3344",
   "metadata": {},
   "outputs": [],
   "source": [
    "P=1;  ## in watts\n",
    "w0= 50 *10^-6;  ## in meters\n",
    "ωr=sqrt(16*a₀^3/c*P/w0^4*αs/mdy)/(2*pi); # in Hz 2pi*(ωr)\n",
    "\n",
    "# From our new arxiv paper Li et al., the trap frequency is on the order of 2pi*140 Hz. We estimate the waist of ODT\n",
    "#by this knowledge."
   ]
  },
  {
   "cell_type": "code",
   "execution_count": 29,
   "id": "3ebdd15a",
   "metadata": {},
   "outputs": [
    {
     "data": {
      "text/plain": [
       "220093.68191506402"
      ]
     },
     "execution_count": 29,
     "metadata": {},
     "output_type": "execute_result"
    }
   ],
   "source": [
    "Ipk=2*P/(pi*w0^2)  #peak intensity in a Gaussian Beam, given the power and radius of the \n",
    "\n",
    "U=2*pi*a₀^3/c*αs*Ipk/h  #in Hz. The scalar AC shift is U Hz."
   ]
  },
  {
   "cell_type": "markdown",
   "id": "91767d59",
   "metadata": {},
   "source": [
    "From Ben Lev OPTICS EXPRESS 3417 Anisotropic dependence of tune-out wavelength near Dy 741-nm transition\n",
    "\n",
    "$$\n",
    "\\Delta U_{\\left(F, m_F\\right)}=-\\alpha^{(0)}\\left|\\vec{E}_0^{(+)}\\right|^2-\\alpha^{(1)}\\left[i \\vec{E}_0^{(-)} \\times \\vec{E}_0^{(+)}\\right]_z \\frac{m_F}{F}-\\alpha^{(2)}\\left|\\vec{E}_0^{(+)}\\right|^2\\left(\\frac{3 \\cos ^2 \\theta-1}{2}\\right)\\left[\\frac{3 m_F^2-F(F+1)}{F(2 F-1)}\\right]\n",
    "$$\n",
    "\n",
    "If we assume that the input laser is linearly polarized, aligned with magnetic field Bz (which is also the case for our x,y ODT right now), $\\cos \\theta =1$.\n",
    "\n",
    "Our $\\alpha_s=184.4, \\alpha_t=1.7$. We can calculate the last bracket below."
   ]
  },
  {
   "cell_type": "code",
   "execution_count": 48,
   "id": "c06df71d",
   "metadata": {},
   "outputs": [
    {
     "name": "stdout",
     "output_type": "stream",
     "text": [
      "[1.7, 1.0625, 0.51, 0.042499999999999996, -0.33999999999999997, -0.6375, -0.85, -0.9774999999999999, -1.02, -0.9774999999999999, -0.85, -0.6375, -0.33999999999999997, 0.042499999999999996, 0.51, 1.0625, 1.7]"
     ]
    }
   ],
   "source": [
    "θ=0\n",
    "ΔUt(mJ) = αt*(3*cos(θ)^2-1)/2*(3mJ^2-J*(J+1))/(J*(2J-1))\n",
    "print(ΔUt.([-8:1:8;]))"
   ]
  },
  {
   "cell_type": "markdown",
   "id": "bb4eaf0c",
   "metadata": {},
   "source": [
    "The above cell shows that the transition between (-8,-7) is 1.7-1.06=0.65; between (-7,-6) is 0.55.\n",
    "\n",
    "Therefore the differential polarizability $\\Delta \\alpha_t$ is on the order of 0.7-0.5=0.1 while the big part $\\alpha_s=184$.\n",
    "$$\n",
    "\\Delta \\alpha_t / \\alpha_s = 0.05 \\%\n",
    "$$"
   ]
  },
  {
   "cell_type": "code",
   "execution_count": 51,
   "id": "8d42c508",
   "metadata": {},
   "outputs": [
    {
     "data": {
      "text/plain": [
       "110.04684095753203"
      ]
     },
     "execution_count": 51,
     "metadata": {},
     "output_type": "execute_result"
    }
   ],
   "source": [
    "U*0.05/100"
   ]
  },
  {
   "cell_type": "markdown",
   "id": "bb45f6f9",
   "metadata": {},
   "source": [
    "The differential shift is on the order of 100 Hz, shown above."
   ]
  }
 ],
 "metadata": {
  "kernelspec": {
   "display_name": "Julia 1.8.1",
   "language": "julia",
   "name": "julia-1.8"
  },
  "language_info": {
   "file_extension": ".jl",
   "mimetype": "application/julia",
   "name": "julia",
   "version": "1.8.1"
  }
 },
 "nbformat": 4,
 "nbformat_minor": 5
}

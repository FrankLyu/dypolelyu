{
 "cells": [
  {
   "cell_type": "code",
   "execution_count": 4,
   "metadata": {
    "scrolled": true
   },
   "outputs": [
    {
     "name": "stdout",
     "output_type": "stream",
     "text": [
      "Collecting ARC-Alkali-Rydberg-Calculator\n",
      "  Downloading ARC_Alkali_Rydberg_Calculator-3.0.21-cp38-cp38-macosx_10_15_x86_64.whl (27.2 MB)\n",
      "\u001b[K     |████████████████████████████████| 27.2 MB 8.4 MB/s eta 0:00:01\n",
      "\u001b[?25hRequirement already satisfied: matplotlib>=1.5.3 in /Users/xudonglv/opt/anaconda3/lib/python3.8/site-packages (from ARC-Alkali-Rydberg-Calculator) (3.3.4)\n",
      "Requirement already satisfied: numpy>=1.16.0 in /Users/xudonglv/opt/anaconda3/lib/python3.8/site-packages (from ARC-Alkali-Rydberg-Calculator) (1.20.1)\n",
      "Collecting lmfit>=0.9.0\n",
      "  Downloading lmfit-1.0.2.tar.gz (306 kB)\n",
      "\u001b[K     |████████████████████████████████| 306 kB 32.8 MB/s eta 0:00:01\n",
      "\u001b[?25hRequirement already satisfied: scipy>=0.18.1 in /Users/xudonglv/opt/anaconda3/lib/python3.8/site-packages (from ARC-Alkali-Rydberg-Calculator) (1.6.2)\n",
      "Requirement already satisfied: sympy>=1.1.1 in /Users/xudonglv/opt/anaconda3/lib/python3.8/site-packages (from ARC-Alkali-Rydberg-Calculator) (1.8)\n",
      "Collecting asteval>=0.9.16\n",
      "  Downloading asteval-0.9.25.tar.gz (39 kB)\n",
      "Collecting uncertainties>=3.0.1\n",
      "  Downloading uncertainties-3.1.6-py2.py3-none-any.whl (98 kB)\n",
      "\u001b[K     |████████████████████████████████| 98 kB 19.7 MB/s eta 0:00:01\n",
      "\u001b[?25hRequirement already satisfied: kiwisolver>=1.0.1 in /Users/xudonglv/opt/anaconda3/lib/python3.8/site-packages (from matplotlib>=1.5.3->ARC-Alkali-Rydberg-Calculator) (1.3.1)\n",
      "Requirement already satisfied: pyparsing!=2.0.4,!=2.1.2,!=2.1.6,>=2.0.3 in /Users/xudonglv/opt/anaconda3/lib/python3.8/site-packages (from matplotlib>=1.5.3->ARC-Alkali-Rydberg-Calculator) (2.4.7)\n",
      "Requirement already satisfied: python-dateutil>=2.1 in /Users/xudonglv/opt/anaconda3/lib/python3.8/site-packages (from matplotlib>=1.5.3->ARC-Alkali-Rydberg-Calculator) (2.8.1)\n",
      "Requirement already satisfied: cycler>=0.10 in /Users/xudonglv/opt/anaconda3/lib/python3.8/site-packages (from matplotlib>=1.5.3->ARC-Alkali-Rydberg-Calculator) (0.10.0)\n",
      "Requirement already satisfied: pillow>=6.2.0 in /Users/xudonglv/opt/anaconda3/lib/python3.8/site-packages (from matplotlib>=1.5.3->ARC-Alkali-Rydberg-Calculator) (8.2.0)\n",
      "Requirement already satisfied: six in /Users/xudonglv/opt/anaconda3/lib/python3.8/site-packages (from cycler>=0.10->matplotlib>=1.5.3->ARC-Alkali-Rydberg-Calculator) (1.15.0)\n",
      "Requirement already satisfied: mpmath>=0.19 in /Users/xudonglv/opt/anaconda3/lib/python3.8/site-packages (from sympy>=1.1.1->ARC-Alkali-Rydberg-Calculator) (1.2.1)\n",
      "Requirement already satisfied: future in /Users/xudonglv/opt/anaconda3/lib/python3.8/site-packages (from uncertainties>=3.0.1->lmfit>=0.9.0->ARC-Alkali-Rydberg-Calculator) (0.18.2)\n",
      "Building wheels for collected packages: lmfit, asteval\n",
      "  Building wheel for lmfit (setup.py) ... \u001b[?25ldone\n",
      "\u001b[?25h  Created wheel for lmfit: filename=lmfit-1.0.2-py3-none-any.whl size=85260 sha256=a02deb7dd129ae802c95dcc783674aa8cec6f2008153a93f6b8adcee86a13f6e\n",
      "  Stored in directory: /Users/xudonglv/Library/Caches/pip/wheels/2c/17/f4/1ec5177c8589e18c329907db7db4f1c4524bb73251d34f3622\n",
      "  Building wheel for asteval (setup.py) ... \u001b[?25ldone\n",
      "\u001b[?25h  Created wheel for asteval: filename=asteval-0.9.25-py3-none-any.whl size=17287 sha256=c949315720816acc55a0694bfabc6c294105aa11ad26aa2cf7e5d2dc556862ef\n",
      "  Stored in directory: /Users/xudonglv/Library/Caches/pip/wheels/9d/52/8e/9892a79fe41878280e133d5bd233a0d73dcab6f8dfd9a0e8cd\n",
      "Successfully built lmfit asteval\n",
      "Installing collected packages: uncertainties, asteval, lmfit, ARC-Alkali-Rydberg-Calculator\n",
      "Successfully installed ARC-Alkali-Rydberg-Calculator-3.0.21 asteval-0.9.25 lmfit-1.0.2 uncertainties-3.1.6\n"
     ]
    }
   ],
   "source": [
    "!pip install ARC-Alkali-Rydberg-Calculator"
   ]
  },
  {
   "cell_type": "code",
   "execution_count": 1,
   "metadata": {},
   "outputs": [],
   "source": [
    "# Configure the matplotlib graphics library and configure it to show \n",
    "# figures inline in the notebook\n",
    "\n",
    "%matplotlib inline               \n",
    "import matplotlib.pyplot as plt  # Import library for direct plotting functions\n",
    "import numpy as np               # Import Numerical Python\n",
    "from IPython.core.display import display, HTML #Import HTML for formatting output\n",
    "\n",
    "# NOTE: Uncomment following lines ONLY if you are not using installation via pip\n",
    "# import sys, os\n",
    "# rootDir = '/path/to/arc/directory' # e.g. '/Users/Username/Desktop/ARC-Alkali-Rydberg-Calculator'\n",
    "# sys.path.insert(0,rootDir)\n",
    "# import sys, os\n",
    "# sys.path.insert(0,\"..\")\n",
    "\n",
    "import arc\n",
    "from arc import *                 #Import ARC (Alkali Rydberg Calculator)"
   ]
  },
  {
   "cell_type": "code",
   "execution_count": 2,
   "metadata": {},
   "outputs": [],
   "source": [
    "atom = Rubidium87()"
   ]
  },
  {
   "cell_type": "markdown",
   "metadata": {},
   "source": [
    "# 420 nm"
   ]
  },
  {
   "cell_type": "code",
   "execution_count": 19,
   "metadata": {},
   "outputs": [
    {
     "name": "stdout",
     "output_type": "stream",
     "text": [
      "Rb Excitation 5S_{1/2} -> 6P_{3/2}\n",
      "lambda = 420.299 nm\n",
      "omega/2pi = 713.284 THz\n"
     ]
    }
   ],
   "source": [
    "print(\"Rb Excitation 5S_{1/2} -> 6P_{3/2}\")\n",
    "n1 = 5; l1 = 0; j1 = 0.5; #Initial State\n",
    "n2 = 6; l2 = 1; j2 = 1.5; #Final State\n",
    "print(\"lambda = %.3f nm\" % (atom.getTransitionWavelength(n1,l1,j1,n2,l2,j2)*1e9))\n",
    "print(\"omega/2pi = %.3f THz\" % (atom.getTransitionFrequency(n1,l1,j1,n2,l2,j2)*1e-12))"
   ]
  },
  {
   "cell_type": "code",
   "execution_count": 20,
   "metadata": {},
   "outputs": [
    {
     "name": "stdout",
     "output_type": "stream",
     "text": [
      "rabi Frequency = 2 pi x 360.00 MHz\n"
     ]
    }
   ],
   "source": [
    "electricField = 438026.452654\n",
    "corrected_EM_field = electricField/4.21133\n",
    "\n",
    "mj1=-0.5;\n",
    "mj2=-1.5;\n",
    "q=-1; #Light Polarisation (sigma+)\n",
    "\n",
    "rabiFreq = atom.getRabiFrequency2(n1, l1, j1, mj1,\n",
    "                                 n2, l2, j2,\n",
    "                                 q, corrected_EM_field)\n",
    "print(\"rabi Frequency = 2 pi x %.2f MHz\" %(rabiFreq/(2*pi)*1e-6))"
   ]
  },
  {
   "cell_type": "code",
   "execution_count": 21,
   "metadata": {},
   "outputs": [
    {
     "name": "stdout",
     "output_type": "stream",
     "text": [
      "Electric Intensity = 14358251.83 W/m^2\n",
      "Power = 47.24 mW\n"
     ]
    }
   ],
   "source": [
    "Area = 105.e-6 * 25.e-6 * sqrt(pi/2)\n",
    "EM_intensity = 0.5 * C_c * epsilon_0 * corrected_EM_field**2\n",
    "EM_power = EM_intensity * Area\n",
    "print(\"Electric Intensity = %.2f W/m^2\" %(EM_intensity))\n",
    "print(\"Power = %.2f mW\" %(EM_power*1.e3))"
   ]
  },
  {
   "cell_type": "code",
   "execution_count": 22,
   "metadata": {
    "scrolled": true
   },
   "outputs": [
    {
     "name": "stdout",
     "output_type": "stream",
     "text": [
      "Total power = 157.46 mW\n"
     ]
    }
   ],
   "source": [
    "print(\"Total power = %.2f mW\" %(EM_power/0.3*1.e3))"
   ]
  },
  {
   "cell_type": "code",
   "execution_count": 23,
   "metadata": {},
   "outputs": [
    {
     "name": "stdout",
     "output_type": "stream",
     "text": [
      "Total power before SLM = 473.56 mW\n"
     ]
    }
   ],
   "source": [
    "print(\"Total power before SLM = %.2f mW\" %(EM_power/(0.3*0.95*0.35)*1.e3))"
   ]
  },
  {
   "cell_type": "markdown",
   "metadata": {},
   "source": [
    "# 1013nm"
   ]
  },
  {
   "cell_type": "code",
   "execution_count": 24,
   "metadata": {},
   "outputs": [
    {
     "name": "stdout",
     "output_type": "stream",
     "text": [
      "Rb Excitation 6P_{3/2} -> 70S_{1/2}\n",
      "lambda = 1012.795 nm\n",
      "omega/2pi = 296.005 THz\n"
     ]
    }
   ],
   "source": [
    "print(\"Rb Excitation 6P_{3/2} -> 70S_{1/2}\")\n",
    "n1 = 6; l1 = 1; j1 = 1.5; #Initial State\n",
    "n2 = 70; l2 = 0; j2 = 0.5; #Final State\n",
    "print(\"lambda = %.3f nm\" % (atom.getTransitionWavelength(n1,l1,j1,n2,l2,j2)*1e9))\n",
    "print(\"omega/2pi = %.3f THz\" % (atom.getTransitionFrequency(n1,l1,j1,n2,l2,j2)*1e-12))"
   ]
  },
  {
   "cell_type": "code",
   "execution_count": 25,
   "metadata": {},
   "outputs": [
    {
     "name": "stdout",
     "output_type": "stream",
     "text": [
      "rabi Frequency = 2 pi x 50.00 MHz\n"
     ]
    }
   ],
   "source": [
    "electricField = 438026.452654\n",
    "corrected_EM_field = electricField/1.0118\n",
    "mj1=-1.5;\n",
    "mj2=-0.5;\n",
    "q=+1; #Light Polarisation (sigma+)\n",
    "\n",
    "rabiFreq = atom.getRabiFrequency2(n1, l1, j1, mj1,\n",
    "                                 n2, l2, j2,\n",
    "                                 q, corrected_EM_field)\n",
    "print(\"rabi Frequency = 2 pi x %.2f MHz\" %(rabiFreq/(2*pi)*1e-6))"
   ]
  },
  {
   "cell_type": "code",
   "execution_count": 26,
   "metadata": {},
   "outputs": [
    {
     "name": "stdout",
     "output_type": "stream",
     "text": [
      "Electric Intensity = 248742940.58 W/m^2\n",
      "Power = 818.35 mW\n"
     ]
    }
   ],
   "source": [
    "Area = 105.e-6 * 25.e-6 * sqrt(pi/2)\n",
    "EM_intensity = 0.5 * C_c * epsilon_0 * corrected_EM_field**2\n",
    "EM_power = EM_intensity * Area\n",
    "print(\"Electric Intensity = %.2f W/m^2\" %(EM_intensity))\n",
    "print(\"Power = %.2f mW\" %(EM_power*1.e3))"
   ]
  },
  {
   "cell_type": "code",
   "execution_count": 17,
   "metadata": {},
   "outputs": [
    {
     "name": "stdout",
     "output_type": "stream",
     "text": [
      "Total power = 2153.56 mW\n"
     ]
    }
   ],
   "source": [
    "print(\"Total power = %.2f mW\" %(EM_power/0.38*1.e3))"
   ]
  },
  {
   "cell_type": "code",
   "execution_count": 27,
   "metadata": {},
   "outputs": [
    {
     "name": "stdout",
     "output_type": "stream",
     "text": [
      "Total power before SLM = 8204.03 mW\n"
     ]
    }
   ],
   "source": [
    "print(\"Total power before SLM = %.2f mW\" %(EM_power/(0.3*0.95*0.35)*1.e3))"
   ]
  },
  {
   "cell_type": "markdown",
   "metadata": {},
   "source": [
    "# 780"
   ]
  },
  {
   "cell_type": "code",
   "execution_count": 23,
   "metadata": {},
   "outputs": [
    {
     "name": "stdout",
     "output_type": "stream",
     "text": [
      "Rb Excitation 5S_{1/2} -> 5P_{1/2}\n",
      "lambda = 794.979 nm\n",
      "omega/2pi = 377.107 THz\n"
     ]
    }
   ],
   "source": [
    "print(\"Rb Excitation 5S_{1/2} -> 5P_{1/2}\")\n",
    "n1 = 5; l1 = 0; j1 = 0.5; #Initial State\n",
    "n2 = 5; l2 = 1; j2 = 0.5; #Final State\n",
    "print(\"lambda = %.3f nm\" % (atom.getTransitionWavelength(n1,l1,j1,n2,l2,j2)*1e9))\n",
    "print(\"omega/2pi = %.3f THz\" % (atom.getTransitionFrequency(n1,l1,j1,n2,l2,j2)*1e-12))"
   ]
  },
  {
   "cell_type": "code",
   "execution_count": 5,
   "metadata": {},
   "outputs": [
    {
     "name": "stdout",
     "output_type": "stream",
     "text": [
      "rabi Frequency = 2 pi x 13499.44 MHz\n"
     ]
    }
   ],
   "source": [
    "electricField = 438026.452654\n",
    "corrected_EM_field = electricField/1.0118\n",
    "mj1=-0.5;\n",
    "mj2=0.5;\n",
    "q=+1; #Light Polarisation (sigma+)\n",
    "\n",
    "rabiFreq = atom.getRabiFrequency2(n1, l1, j1, mj1,\n",
    "                                 n2, l2, j2,\n",
    "                                 q, corrected_EM_field)\n",
    "print(\"rabi Frequency = 2 pi x %.2f MHz\" %(rabiFreq/(2*pi)*1e-6))"
   ]
  },
  {
   "cell_type": "code",
   "execution_count": 24,
   "metadata": {},
   "outputs": [
    {
     "name": "stdout",
     "output_type": "stream",
     "text": [
      "rabi Frequency = 2 pi x 9545.55 MHz\n"
     ]
    }
   ],
   "source": [
    "electricField = 438026.452654\n",
    "corrected_EM_field = electricField/1.0118\n",
    "mj1=0.5;\n",
    "mj2=0.5;\n",
    "q=0; #Light Polarisation (sigma+)\n",
    "\n",
    "rabiFreq = atom.getRabiFrequency2(n1, l1, j1, mj1,\n",
    "                                 n2, l2, j2,\n",
    "                                 q, corrected_EM_field)\n",
    "print(\"rabi Frequency = 2 pi x %.2f MHz\" %(rabiFreq/(2*pi)*1e-6))"
   ]
  },
  {
   "cell_type": "code",
   "execution_count": 36,
   "metadata": {},
   "outputs": [
    {
     "name": "stdout",
     "output_type": "stream",
     "text": [
      "-1.4923488616942087   1.4923488616942087\n"
     ]
    }
   ],
   "source": [
    "n1 = 5; l1 = 0; j1 = 0.5; #Initial State\n",
    "n2 = 5; l2 = 1; j2 = 0.5; #Final State\n",
    "f1 = 1;\n",
    "mf1 = 0;\n",
    "f2 = 2;\n",
    "mf2 = 1;\n",
    "q = +1;\n",
    "DMEHFS1 = atom.getDipoleMatrixElementHFS(n1, l1, j1, f1, mf1, n2, l2, j2, f2, mf2, q, s=0.5)\n",
    "DMEHFS2 = atom.getDipoleMatrixElementHFS(n2, l2, j2, f2, mf2, n1, l1, j1, f1, mf1, -q, s=0.5)\n",
    "print(DMEHFS1,' ',DMEHFS2);"
   ]
  },
  {
   "cell_type": "code",
   "execution_count": 37,
   "metadata": {},
   "outputs": [
    {
     "name": "stdout",
     "output_type": "stream",
     "text": [
      "1.489   -1.489\n"
     ]
    }
   ],
   "source": [
    "n1 = 5; l1 = 0; j1 = 0.5; #Initial State\n",
    "n2 = 5; l2 = 1; j2 = 1.5; #Final State\n",
    "f1 = 1;\n",
    "mf1 = 0;\n",
    "f2 = 2;\n",
    "mf2 = 1;\n",
    "q = +1;\n",
    "DMEHFS1 = atom.getDipoleMatrixElementHFS(n1, l1, j1, f1, mf1, n2, l2, j2, f2, mf2, q, s=0.5)\n",
    "DMEHFS2 = atom.getDipoleMatrixElementHFS(n2, l2, j2, f2, mf2, n1, l1, j1, f1, mf1, -q, s=0.5)\n",
    "print(DMEHFS1,' ',DMEHFS2);"
   ]
  },
  {
   "cell_type": "markdown",
   "metadata": {},
   "source": [
    "# Raman:  F=1,mF=0 ->  F'=1,mF'=0 ->  F=1,mF=1"
   ]
  },
  {
   "cell_type": "code",
   "execution_count": 3,
   "metadata": {},
   "outputs": [
    {
     "name": "stdout",
     "output_type": "stream",
     "text": [
      "-0.0\n",
      "-0.0\n"
     ]
    }
   ],
   "source": [
    "n1 = 5; l1 = 0; j1 = 0.5; f1 = 1; mf1 = 0; #Initial State\n",
    "ne = 5; le = 1; je = 0.5; fe = 1; mfe = 0; #Intermediate state \n",
    "n2 = 5; l2 = 0; j2 = 0.5; f2 = 1; mf2 = 1; #Final State\n",
    "\n",
    "DMEHFS1 = atom.getDipoleMatrixElementHFS(n1, l1, j1, f1, mf1, ne, le, je, fe, mfe, mfe-mf1, s=0.5)\n",
    "DMEHFS2 = atom.getDipoleMatrixElementHFS(ne, le, je, fe, mfe, n2, l2, j2, f2, mf2, mf2-mfe, s=0.5)\n",
    "print(DMEHFS1*DMEHFS2);\n",
    "\n",
    "je = 1.5;\n",
    "DMEHFS1 = atom.getDipoleMatrixElementHFS(n1, l1, j1, f1, mf1, ne, le, je, fe, mfe, mfe-mf1, s=0.5)\n",
    "DMEHFS2 = atom.getDipoleMatrixElementHFS(ne, le, je, fe, mfe, n2, l2, j2, f2, mf2, mf2-mfe, s=0.5)\n",
    "print(DMEHFS1*DMEHFS2);"
   ]
  },
  {
   "cell_type": "markdown",
   "metadata": {},
   "source": [
    "# Raman: F=1,mF=0 ->  F'=2,mF'=0 ->  F=1,mF=1"
   ]
  },
  {
   "cell_type": "code",
   "execution_count": 4,
   "metadata": {},
   "outputs": [
    {
     "name": "stdout",
     "output_type": "stream",
     "text": [
      "1.4847367499999997\n",
      "1.4780806666666666\n"
     ]
    }
   ],
   "source": [
    "n1 = 5; l1 = 0; j1 = 0.5; f1 = 1; mf1 = 0; #Initial State\n",
    "ne = 5; le = 1; je = 0.5; fe = 2; mfe = 0; #Intermediate state \n",
    "n2 = 5; l2 = 0; j2 = 0.5; f2 = 1; mf2 = 1; #Final State\n",
    "\n",
    "\n",
    "DMEHFS1 = atom.getDipoleMatrixElementHFS(n1, l1, j1, f1, mf1, ne, le, je, fe, mfe, mfe-mf1, s=0.5)\n",
    "DMEHFS2 = atom.getDipoleMatrixElementHFS(ne, le, je, fe, mfe, n2, l2, j2, f2, mf2, mf2-mfe, s=0.5)\n",
    "print(DMEHFS1*DMEHFS2);\n",
    "\n",
    "je = 1.5;\n",
    "DMEHFS1 = atom.getDipoleMatrixElementHFS(n1, l1, j1, f1, mf1, ne, le, je, fe, mfe, mfe-mf1, s=0.5)\n",
    "DMEHFS2 = atom.getDipoleMatrixElementHFS(ne, le, je, fe, mfe, n2, l2, j2, f2, mf2, mf2-mfe, s=0.5)\n",
    "print(DMEHFS1*DMEHFS2);"
   ]
  },
  {
   "cell_type": "markdown",
   "metadata": {},
   "source": [
    "# Raman: F=1,mF=0 ->  F'=0,mF'=0 ->  F=1,mF=1"
   ]
  },
  {
   "cell_type": "code",
   "execution_count": 13,
   "metadata": {},
   "outputs": [
    {
     "name": "stdout",
     "output_type": "stream",
     "text": [
      "-2.9561613333333323\n"
     ]
    }
   ],
   "source": [
    "n1 = 5; l1 = 0; j1 = 0.5; f1 = 1; mf1 = 0; #Initial State\n",
    "ne = 5; le = 1; je = 0.5; fe = 0; mfe = 0; #Intermediate state \n",
    "n2 = 5; l2 = 0; j2 = 0.5; f2 = 1; mf2 = 1; #Final State\n",
    "\n",
    "\n",
    "je = 1.5;\n",
    "DMEHFS1 = atom.getDipoleMatrixElementHFS(n1, l1, j1, f1, mf1, ne, le, je, fe, mfe, mfe-mf1, s=0.5)\n",
    "DMEHFS2 = atom.getDipoleMatrixElementHFS(ne, le, je, fe, mfe, n2, l2, j2, f2, mf2, mf2-mfe, s=0.5)\n",
    "print(DMEHFS1*DMEHFS2);"
   ]
  },
  {
   "cell_type": "code",
   "execution_count": 14,
   "metadata": {},
   "outputs": [
    {
     "data": {
      "text/plain": [
       "-1.4780806666666657"
      ]
     },
     "execution_count": 14,
     "metadata": {},
     "output_type": "execute_result"
    }
   ],
   "source": [
    "1.4780806666666666-2.9561613333333323"
   ]
  },
  {
   "cell_type": "code",
   "execution_count": 16,
   "metadata": {},
   "outputs": [
    {
     "name": "stdout",
     "output_type": "stream",
     "text": [
      "-0.0\n",
      "0.0\n"
     ]
    }
   ],
   "source": [
    "n1 = 5; l1 = 0; j1 = 0.5; f1 = 1; mf1 = 0; #Initial State\n",
    "ne = 5; le = 1; je = 0.5; fe = 1; mfe = 0; #Intermediate state \n",
    "n2 = 5; l2 = 0; j2 = 0.5; f2 = 2; mf2 = -1; #Final State\n",
    "\n",
    "DMEHFS1 = atom.getDipoleMatrixElementHFS(n1, l1, j1, f1, mf1, ne, le, je, fe, mfe, mfe-mf1, s=0.5)\n",
    "DMEHFS2 = atom.getDipoleMatrixElementHFS(ne, le, je, fe, mfe, n2, l2, j2, f2, mf2, mf2-mfe, s=0.5)\n",
    "print(DMEHFS1*DMEHFS2);\n",
    "\n",
    "je = 1.5;\n",
    "DMEHFS1 = atom.getDipoleMatrixElementHFS(n1, l1, j1, f1, mf1, ne, le, je, fe, mfe, mfe-mf1, s=0.5)\n",
    "DMEHFS2 = atom.getDipoleMatrixElementHFS(ne, le, je, fe, mfe, n2, l2, j2, f2, mf2, mf2-mfe, s=0.5)\n",
    "print(DMEHFS1*DMEHFS2);"
   ]
  },
  {
   "cell_type": "code",
   "execution_count": 20,
   "metadata": {},
   "outputs": [
    {
     "name": "stdout",
     "output_type": "stream",
     "text": [
      "1.4847367499999997\n",
      "1.4780806666666666\n"
     ]
    }
   ],
   "source": [
    "n1 = 5; l1 = 0; j1 = 0.5; f1 = 1; mf1 = 0; #Initial State\n",
    "ne = 5; le = 1; je = 0.5; fe = 2; mfe = 0; #Intermediate state \n",
    "n2 = 5; l2 = 0; j2 = 0.5; f2 = 1; mf2 = 1; #Final State\n",
    "\n",
    "\n",
    "DMEHFS1 = atom.getDipoleMatrixElementHFS(n1, l1, j1, f1, mf1, ne, le, je, fe, mfe, mfe-mf1, s=0.5)\n",
    "DMEHFS2 = atom.getDipoleMatrixElementHFS(ne, le, je, fe, mfe, n2, l2, j2, f2, mf2, mf2-mfe, s=0.5)\n",
    "print(DMEHFS1*DMEHFS2);\n",
    "\n",
    "je = 1.5;\n",
    "DMEHFS1 = atom.getDipoleMatrixElementHFS(n1, l1, j1, f1, mf1, ne, le, je, fe, mfe, mfe-mf1, s=0.5)\n",
    "DMEHFS2 = atom.getDipoleMatrixElementHFS(ne, le, je, fe, mfe, n2, l2, j2, f2, mf2, mf2-mfe, s=0.5)\n",
    "print(DMEHFS1*DMEHFS2);"
   ]
  },
  {
   "cell_type": "code",
   "execution_count": 21,
   "metadata": {},
   "outputs": [
    {
     "name": "stdout",
     "output_type": "stream",
     "text": [
      "-1.4780806666666657\n"
     ]
    }
   ],
   "source": [
    "n1 = 5; l1 = 0; j1 = 0.5; f1 = 1; mf1 = 0; #Initial State\n",
    "ne = 5; le = 1; je = 0.5; fe = 0; mfe = 0; #Intermediate state \n",
    "n2 = 5; l2 = 0; j2 = 0.5; f2 = 1; mf2 = 1; #Final State\n",
    "\n",
    "\n",
    "je = 1.5;\n",
    "DMEHFS1 = atom.getDipoleMatrixElementHFS(n1, l1, j1, f1, mf1, ne, le, je, fe, mfe, mfe-mf1, s=0.5)\n",
    "DMEHFS2 = atom.getDipoleMatrixElementHFS(ne, le, je, fe, mfe, n2, l2, j2, f2, mf2, mf2-mfe, s=0.5)\n",
    "print(DMEHFS1*DMEHFS2+1.4780806666666666);"
   ]
  },
  {
   "cell_type": "markdown",
   "metadata": {},
   "source": [
    "# Rayleigh:  F=1,mF=0 ->  F'=1,mF'=0 ->  F=1,mF=0"
   ]
  },
  {
   "cell_type": "code",
   "execution_count": 87,
   "metadata": {},
   "outputs": [
    {
     "name": "stdout",
     "output_type": "stream",
     "text": [
      "0.0\n",
      "0.0\n"
     ]
    }
   ],
   "source": [
    "n1 = 5; l1 = 0; j1 = 0.5; f1 = 1; mf1 = 0; #Initial State \n",
    "n2 = 5; l2 = 0; j2 = 0.5; f2 = 1; mf2 = 0; #Final State\n",
    "ne = 5; le = 1; je = 0.5; fe = 1; mfe = 0; #Intermediate state \n",
    "\n",
    "\n",
    "DMEHFS1 = atom.getDipoleMatrixElementHFS(n1, l1, j1, f1, mf1, ne, le, je, fe, mfe, mfe-mf1, s=0.5)\n",
    "DMEHFS2 = atom.getDipoleMatrixElementHFS(ne, le, je, fe, mfe, n2, l2, j2, f2, mf2, mf2-mfe, s=0.5)\n",
    "print(DMEHFS1*DMEHFS2);\n",
    "\n",
    "je = 1.5;\n",
    "DMEHFS1 = atom.getDipoleMatrixElementHFS(n1, l1, j1, f1, mf1, ne, le, je, fe, mfe, mfe-mf1, s=0.5)\n",
    "DMEHFS2 = atom.getDipoleMatrixElementHFS(ne, le, je, fe, mfe, n2, l2, j2, f2, mf2, mf2-mfe, s=0.5)\n",
    "print(DMEHFS1*DMEHFS2);"
   ]
  },
  {
   "cell_type": "markdown",
   "metadata": {},
   "source": [
    "# Rayleigh:  F=1,mF=0 ->  F'=2,mF'=0 ->  F=1,mF=0"
   ]
  },
  {
   "cell_type": "code",
   "execution_count": 52,
   "metadata": {},
   "outputs": [
    {
     "name": "stdout",
     "output_type": "stream",
     "text": [
      "2.9694734999999994\n",
      "2.956161333333333\n"
     ]
    }
   ],
   "source": [
    "n1 = 5; l1 = 0; j1 = 0.5; f1 = 1; mf1 = 0; #Initial State\n",
    "n2 = 5; l2 = 0; j2 = 0.5; f2 = 1; mf2 = 0; #Final State\n",
    "ne = 5; le = 1; je = 0.5; fe = 2; mfe = 0; #Intermediate state \n",
    "\n",
    "DMEHFS1 = atom.getDipoleMatrixElementHFS(n1, l1, j1, f1, mf1, ne, le, je, fe, mfe, mfe-mf1, s=0.5)\n",
    "DMEHFS2 = atom.getDipoleMatrixElementHFS(ne, le, je, fe, mfe, n2, l2, j2, f2, mf2, mf2-mfe, s=0.5)\n",
    "print(DMEHFS1*DMEHFS2);\n",
    "\n",
    "je = 1.5;\n",
    "DMEHFS1 = atom.getDipoleMatrixElementHFS(n1, l1, j1, f1, mf1, ne, le, je, fe, mfe, mfe-mf1, s=0.5)\n",
    "DMEHFS2 = atom.getDipoleMatrixElementHFS(ne, le, je, fe, mfe, n2, l2, j2, f2, mf2, mf2-mfe, s=0.5)\n",
    "print(DMEHFS1*DMEHFS2);"
   ]
  },
  {
   "cell_type": "code",
   "execution_count": 31,
   "metadata": {},
   "outputs": [
    {
     "name": "stdout",
     "output_type": "stream",
     "text": [
      "5.9123226666666655\n"
     ]
    }
   ],
   "source": [
    "n1 = 5; l1 = 0; j1 = 0.5; f1 = 1; mf1 = 0; #Initial State\n",
    "ne = 5; le = 1; je = 0.5; fe = 0; mfe = 0; #Intermediate state \n",
    "n2 = 5; l2 = 0; j2 = 0.5; f2 = 1; mf2 = 0; #Final State\n",
    "\n",
    "\n",
    "je = 1.5;\n",
    "DMEHFS1 = atom.getDipoleMatrixElementHFS(n1, l1, j1, f1, mf1, ne, le, je, fe, mfe, mfe-mf1, s=0.5)\n",
    "DMEHFS2 = atom.getDipoleMatrixElementHFS(ne, le, je, fe, mfe, n2, l2, j2, f2, mf2, mf2-mfe, s=0.5)\n",
    "print(DMEHFS1*DMEHFS2+2.956161333333333);"
   ]
  },
  {
   "cell_type": "markdown",
   "metadata": {},
   "source": [
    "# Raman: F=1,mF=0 ->  F'=2,mF'=1 ->  F=1,mF=1"
   ]
  },
  {
   "cell_type": "code",
   "execution_count": 72,
   "metadata": {},
   "outputs": [
    {
     "name": "stdout",
     "output_type": "stream",
     "text": [
      "0.7423683749999999\n",
      "3.6952016666666663\n"
     ]
    }
   ],
   "source": [
    "n1 = 5; l1 = 0; j1 = 0.5; f1 = 1; mf1 = 0; #Initial State\n",
    "n2 = 5; l2 = 0; j2 = 0.5; f2 = 1; mf2 = 1; #Final State\n",
    "ne = 5; le = 1; je = 0.5; fe = 1; mfe = 1; #Intermediate state \n",
    "\n",
    "DMEHFS1 = atom.getDipoleMatrixElementHFS(n1, l1, j1, f1, mf1, ne, le, je, fe, mfe, mfe-mf1, s=0.5)\n",
    "DMEHFS2 = atom.getDipoleMatrixElementHFS(ne, le, je, fe, mfe, n2, l2, j2, f2, mf2, mf2-mfe, s=0.5)\n",
    "print(DMEHFS1*DMEHFS2);\n",
    "\n",
    "je = 1.5;\n",
    "DMEHFS1 = atom.getDipoleMatrixElementHFS(n1, l1, j1, f1, mf1, ne, le, je, fe, mfe, mfe-mf1, s=0.5)\n",
    "DMEHFS2 = atom.getDipoleMatrixElementHFS(ne, le, je, fe, mfe, n2, l2, j2, f2, mf2, mf2-mfe, s=0.5)\n",
    "print(DMEHFS1*DMEHFS2);"
   ]
  },
  {
   "cell_type": "markdown",
   "metadata": {},
   "source": [
    "# Raman: F=1,mF=0 ->  F'=2,mF'=1 ->  F=1,mF=1"
   ]
  },
  {
   "cell_type": "code",
   "execution_count": 73,
   "metadata": {},
   "outputs": [
    {
     "name": "stdout",
     "output_type": "stream",
     "text": [
      "-2.2271051250000005\n",
      "-2.217121\n"
     ]
    }
   ],
   "source": [
    "n1 = 5; l1 = 0; j1 = 0.5; f1 = 1; mf1 = 0; #Initial State\n",
    "n2 = 5; l2 = 0; j2 = 0.5; f2 = 1; mf2 = 1; #Final State\n",
    "ne = 5; le = 1; je = 0.5; fe = 2; mfe = 1; #Intermediate state \n",
    "\n",
    "DMEHFS1 = atom.getDipoleMatrixElementHFS(n1, l1, j1, f1, mf1, ne, le, je, fe, mfe, mfe-mf1, s=0.5)\n",
    "DMEHFS2 = atom.getDipoleMatrixElementHFS(ne, le, je, fe, mfe, n2, l2, j2, f2, mf2, mf2-mfe, s=0.5)\n",
    "print(DMEHFS1*DMEHFS2);\n",
    "\n",
    "je = 1.5;\n",
    "DMEHFS1 = atom.getDipoleMatrixElementHFS(n1, l1, j1, f1, mf1, ne, le, je, fe, mfe, mfe-mf1, s=0.5)\n",
    "DMEHFS2 = atom.getDipoleMatrixElementHFS(ne, le, je, fe, mfe, n2, l2, j2, f2, mf2, mf2-mfe, s=0.5)\n",
    "print(DMEHFS1*DMEHFS2);"
   ]
  },
  {
   "cell_type": "code",
   "execution_count": 74,
   "metadata": {},
   "outputs": [
    {
     "data": {
      "text/plain": [
       "-1.4847367500000006"
      ]
     },
     "execution_count": 74,
     "metadata": {},
     "output_type": "execute_result"
    }
   ],
   "source": [
    "0.7423683749999999+-2.2271051250000005"
   ]
  },
  {
   "cell_type": "code",
   "execution_count": 75,
   "metadata": {},
   "outputs": [
    {
     "data": {
      "text/plain": [
       "1.4780806666666662"
      ]
     },
     "execution_count": 75,
     "metadata": {},
     "output_type": "execute_result"
    }
   ],
   "source": [
    "3.6952016666666663+-2.217121"
   ]
  },
  {
   "cell_type": "markdown",
   "metadata": {},
   "source": [
    "# Raman:  F=1,mF=0 ->  F'=1,mF'=1 ->  F=2,mF=2"
   ]
  },
  {
   "cell_type": "code",
   "execution_count": 10,
   "metadata": {},
   "outputs": [
    {
     "name": "stdout",
     "output_type": "stream",
     "text": [
      "1.8184237199291158\n",
      "-1.8102717160030617\n"
     ]
    }
   ],
   "source": [
    "n1 = 5; l1 = 0; j1 = 0.5; f1 = 1; mf1 = 0; #Initial State\n",
    "ne = 5; le = 1; je = 0.5; fe = 1; mfe = 1; #Intermediate state \n",
    "n2 = 5; l2 = 0; j2 = 0.5; f2 = 2; mf2 = 2; #Final State\n",
    "\n",
    "DMEHFS1 = atom.getDipoleMatrixElementHFS(n1, l1, j1, f1, mf1, ne, le, je, fe, mfe, mfe-mf1, s=0.5)\n",
    "DMEHFS2 = atom.getDipoleMatrixElementHFS(ne, le, je, fe, mfe, n2, l2, j2, f2, mf2, mf2-mfe, s=0.5)\n",
    "print(DMEHFS1*DMEHFS2);\n",
    "\n",
    "je = 1.5;\n",
    "DMEHFS1 = atom.getDipoleMatrixElementHFS(n1, l1, j1, f1, mf1, ne, le, je, fe, mfe, mfe-mf1, s=0.5)\n",
    "DMEHFS2 = atom.getDipoleMatrixElementHFS(ne, le, je, fe, mfe, n2, l2, j2, f2, mf2, mf2-mfe, s=0.5)\n",
    "print(DMEHFS1*DMEHFS2);"
   ]
  },
  {
   "cell_type": "markdown",
   "metadata": {},
   "source": [
    "# Raman: F=1,mF=0 ->  F'=2,mF'=1 ->  F=2,mF=2"
   ]
  },
  {
   "cell_type": "code",
   "execution_count": 12,
   "metadata": {},
   "outputs": [
    {
     "name": "stdout",
     "output_type": "stream",
     "text": [
      "-1.8184237199291156\n",
      "1.810271716003061\n"
     ]
    }
   ],
   "source": [
    "n1 = 5; l1 = 0; j1 = 0.5; f1 = 1; mf1 = 0; #Initial State\n",
    "ne = 5; le = 1; je = 0.5; fe = 2; mfe = 1; #Intermediate state \n",
    "n2 = 5; l2 = 0; j2 = 0.5; f2 = 2; mf2 = 2; #Final State\n",
    "\n",
    "\n",
    "DMEHFS1 = atom.getDipoleMatrixElementHFS(n1, l1, j1, f1, mf1, ne, le, je, fe, mfe, mfe-mf1, s=0.5)\n",
    "DMEHFS2 = atom.getDipoleMatrixElementHFS(ne, le, je, fe, mfe, n2, l2, j2, f2, mf2, mf2-mfe, s=0.5)\n",
    "print(DMEHFS1*DMEHFS2);\n",
    "\n",
    "je = 1.5;\n",
    "DMEHFS1 = atom.getDipoleMatrixElementHFS(n1, l1, j1, f1, mf1, ne, le, je, fe, mfe, mfe-mf1, s=0.5)\n",
    "DMEHFS2 = atom.getDipoleMatrixElementHFS(ne, le, je, fe, mfe, n2, l2, j2, f2, mf2, mf2-mfe, s=0.5)\n",
    "print(DMEHFS1*DMEHFS2);"
   ]
  },
  {
   "cell_type": "markdown",
   "metadata": {},
   "source": [
    "\n",
    "\n"
   ]
  },
  {
   "cell_type": "code",
   "execution_count": 25,
   "metadata": {},
   "outputs": [
    {
     "name": "stdout",
     "output_type": "stream",
     "text": [
      "-1.4847367500000006\n",
      "1.4780806666666662\n"
     ]
    }
   ],
   "source": [
    "n1 = 5; l1 = 0; j1 = 0.5; f1 = 1; mf1 = 0; #Initial State\n",
    "ne = 5; le = 1; je = 0.5; fe = 2; mfe = 1; #Intermediate state \n",
    "n2 = 5; l2 = 0; j2 = 0.5; f2 = 1; mf2 = 1; #Final State\n",
    "\n",
    "\n",
    "DMEHFS1 = atom.getDipoleMatrixElementHFS(n1, l1, j1, f1, mf1, ne, le, je, fe, mfe, mfe-mf1, s=0.5)\n",
    "DMEHFS2 = atom.getDipoleMatrixElementHFS(ne, le, je, fe, mfe, n2, l2, j2, f2, mf2, mf2-mfe, s=0.5)\n",
    "a12 = DMEHFS1*DMEHFS2;\n",
    "\n",
    "\n",
    "je = 1.5;\n",
    "DMEHFS1 = atom.getDipoleMatrixElementHFS(n1, l1, j1, f1, mf1, ne, le, je, fe, mfe, mfe-mf1, s=0.5)\n",
    "DMEHFS2 = atom.getDipoleMatrixElementHFS(ne, le, je, fe, mfe, n2, l2, j2, f2, mf2, mf2-mfe, s=0.5)\n",
    "a32 = DMEHFS1*DMEHFS2;\n",
    "\n",
    "\n",
    "########\n",
    "n1 = 5; l1 = 0; j1 = 0.5; f1 = 1; mf1 = 0; #Initial State\n",
    "ne = 5; le = 1; je = 0.5; fe = 1; mfe = 1; #Intermediate state \n",
    "n2 = 5; l2 = 0; j2 = 0.5; f2 = 1; mf2 = 1; #Final State\n",
    "\n",
    "\n",
    "DMEHFS1 = atom.getDipoleMatrixElementHFS(n1, l1, j1, f1, mf1, ne, le, je, fe, mfe, mfe-mf1, s=0.5)\n",
    "DMEHFS2 = atom.getDipoleMatrixElementHFS(ne, le, je, fe, mfe, n2, l2, j2, f2, mf2, mf2-mfe, s=0.5)\n",
    "a12 = a12+DMEHFS1*DMEHFS2;\n",
    "\n",
    "\n",
    "je = 1.5;\n",
    "DMEHFS1 = atom.getDipoleMatrixElementHFS(n1, l1, j1, f1, mf1, ne, le, je, fe, mfe, mfe-mf1, s=0.5)\n",
    "DMEHFS2 = atom.getDipoleMatrixElementHFS(ne, le, je, fe, mfe, n2, l2, j2, f2, mf2, mf2-mfe, s=0.5)\n",
    "a32 = a32+DMEHFS1*DMEHFS2;\n",
    "\n",
    "print(a12);\n",
    "print(a32);"
   ]
  },
  {
   "cell_type": "markdown",
   "metadata": {},
   "source": [
    "# Raman: F=1,mF=0 ->  F=2,mF=0, $\\sigma$+ light"
   ]
  },
  {
   "cell_type": "code",
   "execution_count": 27,
   "metadata": {},
   "outputs": [
    {
     "name": "stdout",
     "output_type": "stream",
     "text": [
      "2.9694735000000003\n",
      "-2.9561613333333336\n"
     ]
    }
   ],
   "source": [
    "n1 = 5; l1 = 0; j1 = 0.5; f1 = 1; mf1 = 0; #Initial State\n",
    "ne = 5; le = 1; je = 0.5; fe = 2; mfe = 1; #Intermediate state \n",
    "n2 = 5; l2 = 0; j2 = 0.5; f2 = 2; mf2 = 0; #Final State\n",
    "\n",
    "\n",
    "DMEHFS1 = atom.getDipoleMatrixElementHFS(n1, l1, j1, f1, mf1, ne, le, je, fe, mfe, mfe-mf1, s=0.5)\n",
    "DMEHFS2 = atom.getDipoleMatrixElementHFS(ne, le, je, fe, mfe, n2, l2, j2, f2, mf2, mf2-mfe, s=0.5)\n",
    "a12 = DMEHFS1*DMEHFS2;\n",
    "\n",
    "\n",
    "je = 1.5;\n",
    "DMEHFS1 = atom.getDipoleMatrixElementHFS(n1, l1, j1, f1, mf1, ne, le, je, fe, mfe, mfe-mf1, s=0.5)\n",
    "DMEHFS2 = atom.getDipoleMatrixElementHFS(ne, le, je, fe, mfe, n2, l2, j2, f2, mf2, mf2-mfe, s=0.5)\n",
    "a32 = DMEHFS1*DMEHFS2;\n",
    "\n",
    "\n",
    "########\n",
    "n1 = 5; l1 = 0; j1 = 0.5; f1 = 1; mf1 = 0; #Initial State\n",
    "ne = 5; le = 1; je = 0.5; fe = 1; mfe = 1; #Intermediate state \n",
    "n2 = 5; l2 = 0; j2 = 0.5; f2 = 2; mf2 = 0; #Final State\n",
    "\n",
    "\n",
    "DMEHFS1 = atom.getDipoleMatrixElementHFS(n1, l1, j1, f1, mf1, ne, le, je, fe, mfe, mfe-mf1, s=0.5)\n",
    "DMEHFS2 = atom.getDipoleMatrixElementHFS(ne, le, je, fe, mfe, n2, l2, j2, f2, mf2, mf2-mfe, s=0.5)\n",
    "a12 = a12+DMEHFS1*DMEHFS2;\n",
    "\n",
    "\n",
    "je = 1.5;\n",
    "DMEHFS1 = atom.getDipoleMatrixElementHFS(n1, l1, j1, f1, mf1, ne, le, je, fe, mfe, mfe-mf1, s=0.5)\n",
    "DMEHFS2 = atom.getDipoleMatrixElementHFS(ne, le, je, fe, mfe, n2, l2, j2, f2, mf2, mf2-mfe, s=0.5)\n",
    "a32 = a32+DMEHFS1*DMEHFS2;\n",
    "\n",
    "print(a12);\n",
    "print(a32);"
   ]
  },
  {
   "cell_type": "markdown",
   "metadata": {},
   "source": [
    "# Raman: F=1,mF=0 ->  F=2,mF=1, $\\sigma$+ light"
   ]
  },
  {
   "cell_type": "code",
   "execution_count": 29,
   "metadata": {},
   "outputs": [
    {
     "name": "stdout",
     "output_type": "stream",
     "text": [
      "-2.5716394868646906\n",
      "2.5601108123519456\n"
     ]
    }
   ],
   "source": [
    "n1 = 5; l1 = 0; j1 = 0.5; f1 = 1; mf1 = 0; #Initial State\n",
    "ne = 5; le = 1; je = 0.5; fe = 2; mfe = 1; #Intermediate state \n",
    "n2 = 5; l2 = 0; j2 = 0.5; f2 = 2; mf2 = 1; #Final State\n",
    "\n",
    "\n",
    "DMEHFS1 = atom.getDipoleMatrixElementHFS(n1, l1, j1, f1, mf1, ne, le, je, fe, mfe, mfe-mf1, s=0.5)\n",
    "DMEHFS2 = atom.getDipoleMatrixElementHFS(ne, le, je, fe, mfe, n2, l2, j2, f2, mf2, mf2-mfe, s=0.5)\n",
    "a12 = DMEHFS1*DMEHFS2;\n",
    "\n",
    "\n",
    "je = 1.5;\n",
    "DMEHFS1 = atom.getDipoleMatrixElementHFS(n1, l1, j1, f1, mf1, ne, le, je, fe, mfe, mfe-mf1, s=0.5)\n",
    "DMEHFS2 = atom.getDipoleMatrixElementHFS(ne, le, je, fe, mfe, n2, l2, j2, f2, mf2, mf2-mfe, s=0.5)\n",
    "a32 = DMEHFS1*DMEHFS2;\n",
    "\n",
    "\n",
    "########\n",
    "n1 = 5; l1 = 0; j1 = 0.5; f1 = 1; mf1 = 0; #Initial State\n",
    "ne = 5; le = 1; je = 0.5; fe = 1; mfe = 1; #Intermediate state \n",
    "n2 = 5; l2 = 0; j2 = 0.5; f2 = 2; mf2 = 1; #Final State\n",
    "\n",
    "\n",
    "DMEHFS1 = atom.getDipoleMatrixElementHFS(n1, l1, j1, f1, mf1, ne, le, je, fe, mfe, mfe-mf1, s=0.5)\n",
    "DMEHFS2 = atom.getDipoleMatrixElementHFS(ne, le, je, fe, mfe, n2, l2, j2, f2, mf2, mf2-mfe, s=0.5)\n",
    "a12 = a12+DMEHFS1*DMEHFS2;\n",
    "\n",
    "\n",
    "je = 1.5;\n",
    "DMEHFS1 = atom.getDipoleMatrixElementHFS(n1, l1, j1, f1, mf1, ne, le, je, fe, mfe, mfe-mf1, s=0.5)\n",
    "DMEHFS2 = atom.getDipoleMatrixElementHFS(ne, le, je, fe, mfe, n2, l2, j2, f2, mf2, mf2-mfe, s=0.5)\n",
    "a32 = a32+DMEHFS1*DMEHFS2;\n",
    "\n",
    "print(a12);\n",
    "print(a32);"
   ]
  },
  {
   "cell_type": "markdown",
   "metadata": {},
   "source": [
    "# Raman: F=1,mF=0 ->  F=2,mF=2, $\\sigma$+ light"
   ]
  },
  {
   "cell_type": "code",
   "execution_count": 36,
   "metadata": {},
   "outputs": [
    {
     "name": "stdout",
     "output_type": "stream",
     "text": [
      "2.220446049250313e-16\n",
      "-6.661338147750939e-16\n"
     ]
    }
   ],
   "source": [
    "n1 = 5; l1 = 0; j1 = 0.5; f1 = 1; mf1 = 0; #Initial State\n",
    "ne = 5; le = 1; je = 0.5; fe = 2; mfe = 1; #Intermediate state \n",
    "n2 = 5; l2 = 0; j2 = 0.5; f2 = 2; mf2 = 2; #Final State\n",
    "\n",
    "\n",
    "DMEHFS1 = atom.getDipoleMatrixElementHFS(n1, l1, j1, f1, mf1, ne, le, je, fe, mfe, mfe-mf1, s=0.5)\n",
    "DMEHFS2 = atom.getDipoleMatrixElementHFS(ne, le, je, fe, mfe, n2, l2, j2, f2, mf2, mf2-mfe, s=0.5)\n",
    "a12 = DMEHFS1*DMEHFS2;\n",
    "\n",
    "\n",
    "je = 1.5;\n",
    "DMEHFS1 = atom.getDipoleMatrixElementHFS(n1, l1, j1, f1, mf1, ne, le, je, fe, mfe, mfe-mf1, s=0.5)\n",
    "DMEHFS2 = atom.getDipoleMatrixElementHFS(ne, le, je, fe, mfe, n2, l2, j2, f2, mf2, mf2-mfe, s=0.5)\n",
    "a32 = DMEHFS1*DMEHFS2;\n",
    "\n",
    "\n",
    "########\n",
    "n1 = 5; l1 = 0; j1 = 0.5; f1 = 1; mf1 = 0; #Initial State\n",
    "ne = 5; le = 1; je = 0.5; fe = 1; mfe = 1; #Intermediate state \n",
    "n2 = 5; l2 = 0; j2 = 0.5; f2 = 2; mf2 = 2; #Final State\n",
    "\n",
    "\n",
    "DMEHFS1 = atom.getDipoleMatrixElementHFS(n1, l1, j1, f1, mf1, ne, le, je, fe, mfe, mfe-mf1, s=0.5)\n",
    "DMEHFS2 = atom.getDipoleMatrixElementHFS(ne, le, je, fe, mfe, n2, l2, j2, f2, mf2, mf2-mfe, s=0.5)\n",
    "a12 = a12+DMEHFS1*DMEHFS2;\n",
    "\n",
    "\n",
    "je = 1.5;\n",
    "DMEHFS1 = atom.getDipoleMatrixElementHFS(n1, l1, j1, f1, mf1, ne, le, je, fe, mfe, mfe-mf1, s=0.5)\n",
    "DMEHFS2 = atom.getDipoleMatrixElementHFS(ne, le, je, fe, mfe, n2, l2, j2, f2, mf2, mf2-mfe, s=0.5)\n",
    "a32 = a32+DMEHFS1*DMEHFS2;\n",
    "\n",
    "print(a12);\n",
    "print(a32); # close to 0"
   ]
  },
  {
   "cell_type": "markdown",
   "metadata": {},
   "source": [
    "# Rayleigh: F=1,mF=0 ->  F=1,mF=0, $\\sigma$+ light"
   ]
  },
  {
   "cell_type": "code",
   "execution_count": 27,
   "metadata": {
    "scrolled": false
   },
   "outputs": [
    {
     "name": "stdout",
     "output_type": "stream",
     "text": [
      "-0.8616080170239828 0.8616080170239828\n",
      "1.9222907341676148 -1.9222907341676143\n",
      "-1.4923488616942087 1.4923488616942087\n",
      "1.489 -1.489\n",
      "-2.9694735000000003\n",
      "-5.912322666666666\n"
     ]
    }
   ],
   "source": [
    "n1 = 5; l1 = 0; j1 = 0.5; f1 = 1; mf1 = 0; #Initial State\n",
    "ne = 5; le = 1; je = 0.5; fe = 1; mfe = 1; #Intermediate state \n",
    "n2 = 5; l2 = 0; j2 = 0.5; f2 = 1; mf2 = 0; #Final State\n",
    "\n",
    "\n",
    "DMEHFS1 = atom.getDipoleMatrixElementHFS(n1, l1, j1, f1, mf1, ne, le, je, fe, mfe, mfe-mf1, s=0.5)\n",
    "DMEHFS2 = atom.getDipoleMatrixElementHFS(ne, le, je, fe, mfe, n2, l2, j2, f2, mf2, mf2-mfe, s=0.5)\n",
    "print(DMEHFS1,DMEHFS2);\n",
    "a12 = DMEHFS1*DMEHFS2;\n",
    "\n",
    "\n",
    "je = 1.5;\n",
    "DMEHFS1 = atom.getDipoleMatrixElementHFS(n1, l1, j1, f1, mf1, ne, le, je, fe, mfe, mfe-mf1, s=0.5)\n",
    "DMEHFS2 = atom.getDipoleMatrixElementHFS(ne, le, je, fe, mfe, n2, l2, j2, f2, mf2, mf2-mfe, s=0.5)\n",
    "print(DMEHFS1,DMEHFS2);\n",
    "a32 = DMEHFS1*DMEHFS2;\n",
    "\n",
    "\n",
    "########\n",
    "n1 = 5; l1 = 0; j1 = 0.5; f1 = 1; mf1 = 0; #Initial State\n",
    "ne = 5; le = 1; je = 0.5; fe = 2; mfe = 1; #Intermediate state \n",
    "n2 = 5; l2 = 0; j2 = 0.5; f2 = 1; mf2 = 0; #Final State\n",
    "\n",
    "\n",
    "DMEHFS1 = atom.getDipoleMatrixElementHFS(n1, l1, j1, f1, mf1, ne, le, je, fe, mfe, mfe-mf1, s=0.5)\n",
    "DMEHFS2 = atom.getDipoleMatrixElementHFS(ne, le, je, fe, mfe, n2, l2, j2, f2, mf2, mf2-mfe, s=0.5)\n",
    "print(DMEHFS1,DMEHFS2);\n",
    "a12 = a12+DMEHFS1*DMEHFS2;\n",
    "\n",
    "\n",
    "je = 1.5;\n",
    "DMEHFS1 = atom.getDipoleMatrixElementHFS(n1, l1, j1, f1, mf1, ne, le, je, fe, mfe, mfe-mf1, s=0.5)\n",
    "DMEHFS2 = atom.getDipoleMatrixElementHFS(ne, le, je, fe, mfe, n2, l2, j2, f2, mf2, mf2-mfe, s=0.5)\n",
    "print(DMEHFS1,DMEHFS2);\n",
    "a32 = a32+DMEHFS1*DMEHFS2;\n",
    "\n",
    "\n",
    "\n",
    "print(a12);\n",
    "print(a32);"
   ]
  },
  {
   "cell_type": "code",
   "execution_count": 8,
   "metadata": {},
   "outputs": [
    {
     "name": "stdout",
     "output_type": "stream",
     "text": [
      "-2.9694735000000003\n",
      "-5.912322666666666\n"
     ]
    }
   ],
   "source": [
    "n1 = 5; l1 = 0; j1 = 0.5; f1 = 1; mf1 = 0; #Initial State\n",
    "ne = 5; le = 1; je = 0.5; fe = 1; mfe = 1; #Intermediate state \n",
    "n2 = 5; l2 = 0; j2 = 0.5; f2 = 1; mf2 = 0; #Final State\n",
    "\n",
    "\n",
    "DMEHFS1 = atom.getDipoleMatrixElementHFS(n1, l1, j1, f1, mf1, ne, le, je, fe, mfe, mfe-mf1, s=0.5)\n",
    "DMEHFS2 = atom.getDipoleMatrixElementHFS(ne, le, je, fe, mfe, n2, l2, j2, f2, mf2, mf2-mfe, s=0.5)\n",
    "#print(DMEHFS1,DMEHFS2);\n",
    "a12 = DMEHFS1*DMEHFS2;\n",
    "\n",
    "\n",
    "je = 1.5;\n",
    "DMEHFS1 = atom.getDipoleMatrixElementHFS(n1, l1, j1, f1, mf1, ne, le, je, fe, mfe, mfe-mf1, s=0.5)\n",
    "DMEHFS2 = atom.getDipoleMatrixElementHFS(ne, le, je, fe, mfe, n2, l2, j2, f2, mf2, mf2-mfe, s=0.5)\n",
    "#print(DMEHFS1,DMEHFS2);\n",
    "a32 = DMEHFS1*DMEHFS2;\n",
    "\n",
    "\n",
    "########\n",
    "n1 = 5; l1 = 0; j1 = 0.5; f1 = 1; mf1 = 0; #Initial State\n",
    "ne = 5; le = 1; je = 0.5; fe = 2; mfe = 1; #Intermediate state \n",
    "n2 = 5; l2 = 0; j2 = 0.5; f2 = 1; mf2 = 0; #Final State\n",
    "\n",
    "\n",
    "DMEHFS1 = atom.getDipoleMatrixElementHFS(n1, l1, j1, f1, mf1, ne, le, je, fe, mfe, mfe-mf1, s=0.5)\n",
    "DMEHFS2 = atom.getDipoleMatrixElementHFS(ne, le, je, fe, mfe, n2, l2, j2, f2, mf2, mf2-mfe, s=0.5)\n",
    "#print(DMEHFS1,DMEHFS2);\n",
    "a12 = a12+DMEHFS1*DMEHFS2;\n",
    "\n",
    "\n",
    "je = 1.5;\n",
    "DMEHFS1 = atom.getDipoleMatrixElementHFS(n1, l1, j1, f1, mf1, ne, le, je, fe, mfe, mfe-mf1, s=0.5)\n",
    "DMEHFS2 = atom.getDipoleMatrixElementHFS(ne, le, je, fe, mfe, n2, l2, j2, f2, mf2, mf2-mfe, s=0.5)\n",
    "#print(DMEHFS1,DMEHFS2);\n",
    "a32 = a32+DMEHFS1*DMEHFS2;\n",
    "\n",
    "\n",
    "\n",
    "print(a12);\n",
    "print(a32);"
   ]
  },
  {
   "cell_type": "code",
   "execution_count": 90,
   "metadata": {},
   "outputs": [
    {
     "ename": "SyntaxError",
     "evalue": "invalid character in identifier (<ipython-input-90-30fce9110b95>, line 2)",
     "output_type": "error",
     "traceback": [
      "\u001b[0;36m  File \u001b[0;32m\"<ipython-input-90-30fce9110b95>\"\u001b[0;36m, line \u001b[0;32m2\u001b[0m\n\u001b[0;31m    e = 1.602176634e−19\u001b[0m\n\u001b[0m                      ^\u001b[0m\n\u001b[0;31mSyntaxError\u001b[0m\u001b[0;31m:\u001b[0m invalid character in identifier\n"
     ]
    }
   ],
   "source": [
    "a0 = 5.2917721090380*10**(-11)\n",
    "e = 1.602176634*10**(-19)"
   ]
  },
  {
   "cell_type": "markdown",
   "metadata": {},
   "source": [
    "# $\\sigma-$  light"
   ]
  },
  {
   "cell_type": "markdown",
   "metadata": {},
   "source": [
    "# Raman: F=1,mF=0 ->  F=1,mF=-1, $\\sigma$- light"
   ]
  },
  {
   "cell_type": "code",
   "execution_count": 32,
   "metadata": {},
   "outputs": [
    {
     "name": "stdout",
     "output_type": "stream",
     "text": [
      "-1.4847367500000006\n",
      "1.4780806666666662\n"
     ]
    }
   ],
   "source": [
    "n1 = 5; l1 = 0; j1 = 0.5; f1 = 1; mf1 = 0; #Initial State\n",
    "ne = 5; le = 1; je = 0.5; fe = 2; mfe = -1; #Intermediate state \n",
    "n2 = 5; l2 = 0; j2 = 0.5; f2 = 1; mf2 = -1; #Final State\n",
    "\n",
    "\n",
    "DMEHFS1 = atom.getDipoleMatrixElementHFS(n1, l1, j1, f1, mf1, ne, le, je, fe, mfe, mfe-mf1, s=0.5)\n",
    "DMEHFS2 = atom.getDipoleMatrixElementHFS(ne, le, je, fe, mfe, n2, l2, j2, f2, mf2, mf2-mfe, s=0.5)\n",
    "a12 = DMEHFS1*DMEHFS2;\n",
    "\n",
    "\n",
    "je = 1.5;\n",
    "DMEHFS1 = atom.getDipoleMatrixElementHFS(n1, l1, j1, f1, mf1, ne, le, je, fe, mfe, mfe-mf1, s=0.5)\n",
    "DMEHFS2 = atom.getDipoleMatrixElementHFS(ne, le, je, fe, mfe, n2, l2, j2, f2, mf2, mf2-mfe, s=0.5)\n",
    "a32 = DMEHFS1*DMEHFS2;\n",
    "\n",
    "\n",
    "########\n",
    "n1 = 5; l1 = 0; j1 = 0.5; f1 = 1; mf1 = 0; #Initial State\n",
    "ne = 5; le = 1; je = 0.5; fe = 1; mfe = -1; #Intermediate state \n",
    "n2 = 5; l2 = 0; j2 = 0.5; f2 = 1; mf2 = -1; #Final State\n",
    "\n",
    "\n",
    "DMEHFS1 = atom.getDipoleMatrixElementHFS(n1, l1, j1, f1, mf1, ne, le, je, fe, mfe, mfe-mf1, s=0.5)\n",
    "DMEHFS2 = atom.getDipoleMatrixElementHFS(ne, le, je, fe, mfe, n2, l2, j2, f2, mf2, mf2-mfe, s=0.5)\n",
    "a12 = a12+DMEHFS1*DMEHFS2;\n",
    "\n",
    "\n",
    "je = 1.5;\n",
    "DMEHFS1 = atom.getDipoleMatrixElementHFS(n1, l1, j1, f1, mf1, ne, le, je, fe, mfe, mfe-mf1, s=0.5)\n",
    "DMEHFS2 = atom.getDipoleMatrixElementHFS(ne, le, je, fe, mfe, n2, l2, j2, f2, mf2, mf2-mfe, s=0.5)\n",
    "a32 = a32+DMEHFS1*DMEHFS2;\n",
    "\n",
    "print(a12);\n",
    "print(a32);"
   ]
  },
  {
   "cell_type": "markdown",
   "metadata": {},
   "source": [
    "# Raman: F=1,mF=0 ->  F=2,mF=-2, $\\sigma$- light"
   ]
  },
  {
   "cell_type": "code",
   "execution_count": 34,
   "metadata": {},
   "outputs": [
    {
     "name": "stdout",
     "output_type": "stream",
     "text": [
      "-2.220446049250313e-16\n",
      "6.661338147750939e-16\n"
     ]
    }
   ],
   "source": [
    "n1 = 5; l1 = 0; j1 = 0.5; f1 = 1; mf1 = 0; #Initial State\n",
    "ne = 5; le = 1; je = 0.5; fe = 2; mfe = -1; #Intermediate state \n",
    "n2 = 5; l2 = 0; j2 = 0.5; f2 = 2; mf2 = -2; #Final State\n",
    "\n",
    "\n",
    "DMEHFS1 = atom.getDipoleMatrixElementHFS(n1, l1, j1, f1, mf1, ne, le, je, fe, mfe, mfe-mf1, s=0.5)\n",
    "DMEHFS2 = atom.getDipoleMatrixElementHFS(ne, le, je, fe, mfe, n2, l2, j2, f2, mf2, mf2-mfe, s=0.5)\n",
    "a12 = DMEHFS1*DMEHFS2;\n",
    "\n",
    "\n",
    "je = 1.5;\n",
    "DMEHFS1 = atom.getDipoleMatrixElementHFS(n1, l1, j1, f1, mf1, ne, le, je, fe, mfe, mfe-mf1, s=0.5)\n",
    "DMEHFS2 = atom.getDipoleMatrixElementHFS(ne, le, je, fe, mfe, n2, l2, j2, f2, mf2, mf2-mfe, s=0.5)\n",
    "a32 = DMEHFS1*DMEHFS2;\n",
    "\n",
    "\n",
    "########\n",
    "n1 = 5; l1 = 0; j1 = 0.5; f1 = 1; mf1 = 0; #Initial State\n",
    "ne = 5; le = 1; je = 0.5; fe = 1; mfe = -1; #Intermediate state \n",
    "n2 = 5; l2 = 0; j2 = 0.5; f2 = 2; mf2 = -2; #Final State\n",
    "\n",
    "\n",
    "DMEHFS1 = atom.getDipoleMatrixElementHFS(n1, l1, j1, f1, mf1, ne, le, je, fe, mfe, mfe-mf1, s=0.5)\n",
    "DMEHFS2 = atom.getDipoleMatrixElementHFS(ne, le, je, fe, mfe, n2, l2, j2, f2, mf2, mf2-mfe, s=0.5)\n",
    "a12 = a12+DMEHFS1*DMEHFS2;\n",
    "\n",
    "\n",
    "je = 1.5;\n",
    "DMEHFS1 = atom.getDipoleMatrixElementHFS(n1, l1, j1, f1, mf1, ne, le, je, fe, mfe, mfe-mf1, s=0.5)\n",
    "DMEHFS2 = atom.getDipoleMatrixElementHFS(ne, le, je, fe, mfe, n2, l2, j2, f2, mf2, mf2-mfe, s=0.5)\n",
    "a32 = a32+DMEHFS1*DMEHFS2;\n",
    "\n",
    "print(a12);\n",
    "print(a32);"
   ]
  },
  {
   "cell_type": "markdown",
   "metadata": {},
   "source": [
    "# Raman: F=1,mF=0 ->  F=2,mF=-1, $\\sigma$- light"
   ]
  },
  {
   "cell_type": "code",
   "execution_count": 35,
   "metadata": {},
   "outputs": [
    {
     "name": "stdout",
     "output_type": "stream",
     "text": [
      "2.5716394868646906\n",
      "-2.5601108123519456\n"
     ]
    }
   ],
   "source": [
    "n1 = 5; l1 = 0; j1 = 0.5; f1 = 1; mf1 = 0; #Initial State\n",
    "ne = 5; le = 1; je = 0.5; fe = 2; mfe = -1; #Intermediate state \n",
    "n2 = 5; l2 = 0; j2 = 0.5; f2 = 2; mf2 = -1; #Final State\n",
    "\n",
    "\n",
    "DMEHFS1 = atom.getDipoleMatrixElementHFS(n1, l1, j1, f1, mf1, ne, le, je, fe, mfe, mfe-mf1, s=0.5)\n",
    "DMEHFS2 = atom.getDipoleMatrixElementHFS(ne, le, je, fe, mfe, n2, l2, j2, f2, mf2, mf2-mfe, s=0.5)\n",
    "a12 = DMEHFS1*DMEHFS2;\n",
    "\n",
    "\n",
    "je = 1.5;\n",
    "DMEHFS1 = atom.getDipoleMatrixElementHFS(n1, l1, j1, f1, mf1, ne, le, je, fe, mfe, mfe-mf1, s=0.5)\n",
    "DMEHFS2 = atom.getDipoleMatrixElementHFS(ne, le, je, fe, mfe, n2, l2, j2, f2, mf2, mf2-mfe, s=0.5)\n",
    "a32 = DMEHFS1*DMEHFS2;\n",
    "\n",
    "\n",
    "########\n",
    "n1 = 5; l1 = 0; j1 = 0.5; f1 = 1; mf1 = 0; #Initial State\n",
    "ne = 5; le = 1; je = 0.5; fe = 1; mfe = -1; #Intermediate state \n",
    "n2 = 5; l2 = 0; j2 = 0.5; f2 = 2; mf2 = -1; #Final State\n",
    "\n",
    "\n",
    "DMEHFS1 = atom.getDipoleMatrixElementHFS(n1, l1, j1, f1, mf1, ne, le, je, fe, mfe, mfe-mf1, s=0.5)\n",
    "DMEHFS2 = atom.getDipoleMatrixElementHFS(ne, le, je, fe, mfe, n2, l2, j2, f2, mf2, mf2-mfe, s=0.5)\n",
    "a12 = a12+DMEHFS1*DMEHFS2;\n",
    "\n",
    "\n",
    "je = 1.5;\n",
    "DMEHFS1 = atom.getDipoleMatrixElementHFS(n1, l1, j1, f1, mf1, ne, le, je, fe, mfe, mfe-mf1, s=0.5)\n",
    "DMEHFS2 = atom.getDipoleMatrixElementHFS(ne, le, je, fe, mfe, n2, l2, j2, f2, mf2, mf2-mfe, s=0.5)\n",
    "a32 = a32+DMEHFS1*DMEHFS2;\n",
    "\n",
    "print(a12);\n",
    "print(a32); # close to 0"
   ]
  },
  {
   "cell_type": "markdown",
   "metadata": {},
   "source": [
    "# Raman: F=1,mF=0 ->  F=2,mF=0, $\\sigma$- light"
   ]
  },
  {
   "cell_type": "code",
   "execution_count": 38,
   "metadata": {
    "scrolled": false
   },
   "outputs": [
    {
     "name": "stdout",
     "output_type": "stream",
     "text": [
      "-2.9694735000000003\n",
      "2.9561613333333336\n"
     ]
    }
   ],
   "source": [
    "n1 = 5; l1 = 0; j1 = 0.5; f1 = 1; mf1 = 0; #Initial State\n",
    "ne = 5; le = 1; je = 0.5; fe = 1; mfe = -1; #Intermediate state \n",
    "n2 = 5; l2 = 0; j2 = 0.5; f2 = 2; mf2 = 0; #Final State\n",
    "\n",
    "\n",
    "DMEHFS1 = atom.getDipoleMatrixElementHFS(n1, l1, j1, f1, mf1, ne, le, je, fe, mfe, mfe-mf1, s=0.5)\n",
    "DMEHFS2 = atom.getDipoleMatrixElementHFS(ne, le, je, fe, mfe, n2, l2, j2, f2, mf2, mf2-mfe, s=0.5)\n",
    "#print(DMEHFS1,DMEHFS2);\n",
    "a12 = DMEHFS1*DMEHFS2;\n",
    "\n",
    "\n",
    "je = 1.5;\n",
    "DMEHFS1 = atom.getDipoleMatrixElementHFS(n1, l1, j1, f1, mf1, ne, le, je, fe, mfe, mfe-mf1, s=0.5)\n",
    "DMEHFS2 = atom.getDipoleMatrixElementHFS(ne, le, je, fe, mfe, n2, l2, j2, f2, mf2, mf2-mfe, s=0.5)\n",
    "#print(DMEHFS1,DMEHFS2);\n",
    "a32 = DMEHFS1*DMEHFS2;\n",
    "\n",
    "\n",
    "########\n",
    "n1 = 5; l1 = 0; j1 = 0.5; f1 = 1; mf1 = 0; #Initial State\n",
    "ne = 5; le = 1; je = 0.5; fe = 2; mfe = -1; #Intermediate state \n",
    "n2 = 5; l2 = 0; j2 = 0.5; f2 = 2; mf2 = 0; #Final State\n",
    "\n",
    "\n",
    "DMEHFS1 = atom.getDipoleMatrixElementHFS(n1, l1, j1, f1, mf1, ne, le, je, fe, mfe, mfe-mf1, s=0.5)\n",
    "DMEHFS2 = atom.getDipoleMatrixElementHFS(ne, le, je, fe, mfe, n2, l2, j2, f2, mf2, mf2-mfe, s=0.5)\n",
    "#print(DMEHFS1,DMEHFS2);\n",
    "a12 = a12+DMEHFS1*DMEHFS2;\n",
    "\n",
    "\n",
    "je = 1.5;\n",
    "DMEHFS1 = atom.getDipoleMatrixElementHFS(n1, l1, j1, f1, mf1, ne, le, je, fe, mfe, mfe-mf1, s=0.5)\n",
    "DMEHFS2 = atom.getDipoleMatrixElementHFS(ne, le, je, fe, mfe, n2, l2, j2, f2, mf2, mf2-mfe, s=0.5)\n",
    "#print(DMEHFS1,DMEHFS2);\n",
    "a32 = a32+DMEHFS1*DMEHFS2;\n",
    "\n",
    "\n",
    "\n",
    "print(a12);\n",
    "print(a32);"
   ]
  },
  {
   "cell_type": "markdown",
   "metadata": {},
   "source": [
    "# Rayleigh: F=1,mF=0 ->  F=1,mF=0, $\\sigma$- light"
   ]
  },
  {
   "cell_type": "code",
   "execution_count": 39,
   "metadata": {
    "scrolled": false
   },
   "outputs": [
    {
     "name": "stdout",
     "output_type": "stream",
     "text": [
      "-2.9694735000000003\n",
      "-5.912322666666666\n"
     ]
    }
   ],
   "source": [
    "n1 = 5; l1 = 0; j1 = 0.5; f1 = 1; mf1 = 0; #Initial State\n",
    "ne = 5; le = 1; je = 0.5; fe = 1; mfe = -1; #Intermediate state \n",
    "n2 = 5; l2 = 0; j2 = 0.5; f2 = 1; mf2 = 0; #Final State\n",
    "\n",
    "\n",
    "DMEHFS1 = atom.getDipoleMatrixElementHFS(n1, l1, j1, f1, mf1, ne, le, je, fe, mfe, mfe-mf1, s=0.5)\n",
    "DMEHFS2 = atom.getDipoleMatrixElementHFS(ne, le, je, fe, mfe, n2, l2, j2, f2, mf2, mf2-mfe, s=0.5)\n",
    "#print(DMEHFS1,DMEHFS2);\n",
    "a12 = DMEHFS1*DMEHFS2;\n",
    "\n",
    "\n",
    "je = 1.5;\n",
    "DMEHFS1 = atom.getDipoleMatrixElementHFS(n1, l1, j1, f1, mf1, ne, le, je, fe, mfe, mfe-mf1, s=0.5)\n",
    "DMEHFS2 = atom.getDipoleMatrixElementHFS(ne, le, je, fe, mfe, n2, l2, j2, f2, mf2, mf2-mfe, s=0.5)\n",
    "#print(DMEHFS1,DMEHFS2);\n",
    "a32 = DMEHFS1*DMEHFS2;\n",
    "\n",
    "\n",
    "########\n",
    "n1 = 5; l1 = 0; j1 = 0.5; f1 = 1; mf1 = 0; #Initial State\n",
    "ne = 5; le = 1; je = 0.5; fe = 2; mfe = -1; #Intermediate state \n",
    "n2 = 5; l2 = 0; j2 = 0.5; f2 = 1; mf2 = 0; #Final State\n",
    "\n",
    "\n",
    "DMEHFS1 = atom.getDipoleMatrixElementHFS(n1, l1, j1, f1, mf1, ne, le, je, fe, mfe, mfe-mf1, s=0.5)\n",
    "DMEHFS2 = atom.getDipoleMatrixElementHFS(ne, le, je, fe, mfe, n2, l2, j2, f2, mf2, mf2-mfe, s=0.5)\n",
    "#print(DMEHFS1,DMEHFS2);\n",
    "a12 = a12+DMEHFS1*DMEHFS2;\n",
    "\n",
    "\n",
    "je = 1.5;\n",
    "DMEHFS1 = atom.getDipoleMatrixElementHFS(n1, l1, j1, f1, mf1, ne, le, je, fe, mfe, mfe-mf1, s=0.5)\n",
    "DMEHFS2 = atom.getDipoleMatrixElementHFS(ne, le, je, fe, mfe, n2, l2, j2, f2, mf2, mf2-mfe, s=0.5)\n",
    "#print(DMEHFS1,DMEHFS2);\n",
    "a32 = a32+DMEHFS1*DMEHFS2;\n",
    "\n",
    "\n",
    "\n",
    "print(a12);\n",
    "print(a32);"
   ]
  },
  {
   "cell_type": "code",
   "execution_count": null,
   "metadata": {},
   "outputs": [],
   "source": []
  }
 ],
 "metadata": {
  "kernelspec": {
   "display_name": "Python 3",
   "language": "python",
   "name": "python3"
  },
  "language_info": {
   "codemirror_mode": {
    "name": "ipython",
    "version": 3
   },
   "file_extension": ".py",
   "mimetype": "text/x-python",
   "name": "python",
   "nbconvert_exporter": "python",
   "pygments_lexer": "ipython3",
   "version": "3.7.3"
  }
 },
 "nbformat": 4,
 "nbformat_minor": 5
}

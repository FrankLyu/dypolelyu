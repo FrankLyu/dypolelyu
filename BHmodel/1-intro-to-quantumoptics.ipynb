{
 "cells": [
  {
   "cell_type": "markdown",
   "metadata": {},
   "source": [
    "## Intro to QuantumOptics.jl"
   ]
  },
  {
   "cell_type": "code",
   "execution_count": 1,
   "metadata": {},
   "outputs": [
    {
     "data": {
      "text/plain": [
       "Plots.PyPlotBackend()"
      ]
     },
     "execution_count": 1,
     "metadata": {},
     "output_type": "execute_result"
    }
   ],
   "source": [
    "using QuantumOptics\n",
    "using Plots\n",
    "using LaTeXStrings\n",
    "pyplot()"
   ]
  },
  {
   "cell_type": "markdown",
   "metadata": {},
   "source": [
    "### Generating bases"
   ]
  },
  {
   "cell_type": "markdown",
   "metadata": {},
   "source": [
    "Out of the box, QuantumOptics.jl defines many common types of bases with operators predefined. While it's not difficult to define a basis yourself (i.e. using `GenericBasis()`), these default bases are useful for quick calculations. Some examples:"
   ]
  },
  {
   "cell_type": "code",
   "execution_count": 2,
   "metadata": {},
   "outputs": [
    {
     "data": {
      "text/plain": [
       "Operator(dim=2x2)\n",
       "  basis: Spin(1/2)sparse([1, 2], [1, 2], ComplexF64[1.0 + 0.0im, -1.0 + 0.0im], 2, 2)"
      ]
     },
     "execution_count": 2,
     "metadata": {},
     "output_type": "execute_result"
    }
   ],
   "source": [
    "sb = SpinBasis(1//2)    # A generic S = 1/2 spin basis.\n",
    "sz = sigmaz(sb)         # What is the Sz matrix? Note that the output is sparse."
   ]
  },
  {
   "cell_type": "code",
   "execution_count": 6,
   "metadata": {},
   "outputs": [
    {
     "data": {
      "text/plain": [
       "Operator(dim=11x11)\n",
       "  basis: Fock(cutoff=10)sparse([2, 3, 4, 5, 6, 7, 8, 9, 10, 11], [1, 2, 3, 4, 5, 6, 7, 8, 9, 10], ComplexF64[1.0 + 0.0im, 1.4142135623730951 + 0.0im, 1.7320508075688772 + 0.0im, 2.0 + 0.0im, 2.23606797749979 + 0.0im, 2.449489742783178 + 0.0im, 2.6457513110645907 + 0.0im, 2.8284271247461903 + 0.0im, 3.0 + 0.0im, 3.1622776601683795 + 0.0im], 11, 11)"
      ]
     },
     "execution_count": 6,
     "metadata": {},
     "output_type": "execute_result"
    }
   ],
   "source": [
    "fb = FockBasis(10)      # A basis containing a few number states\n",
    "cfb = create(fb)        # What is the creation operator in this basis?"
   ]
  },
  {
   "cell_type": "markdown",
   "metadata": {},
   "source": [
    "These operators are just dressed up (sparse) matrices. Apart from their entry values they contain information about the basis they work on (to get a list of all the fields do `fieldnames(typeof( cfb ))`). If we would want to we could grab the data like this:"
   ]
  },
  {
   "cell_type": "code",
   "execution_count": 7,
   "metadata": {},
   "outputs": [
    {
     "data": {
      "text/plain": [
       "11×11 SparseArrays.SparseMatrixCSC{ComplexF64, Int64} with 10 stored entries:\n",
       "     ⋅              ⋅      …      ⋅              ⋅          ⋅    \n",
       " 1.0+0.0im          ⋅             ⋅              ⋅          ⋅    \n",
       "     ⋅      1.41421+0.0im         ⋅              ⋅          ⋅    \n",
       "     ⋅              ⋅             ⋅              ⋅          ⋅    \n",
       "     ⋅              ⋅             ⋅              ⋅          ⋅    \n",
       "     ⋅              ⋅      …      ⋅              ⋅          ⋅    \n",
       "     ⋅              ⋅             ⋅              ⋅          ⋅    \n",
       "     ⋅              ⋅             ⋅              ⋅          ⋅    \n",
       "     ⋅              ⋅             ⋅              ⋅          ⋅    \n",
       "     ⋅              ⋅         3.0+0.0im          ⋅          ⋅    \n",
       "     ⋅              ⋅      …      ⋅      3.16228+0.0im      ⋅    "
      ]
     },
     "execution_count": 7,
     "metadata": {},
     "output_type": "execute_result"
    }
   ],
   "source": [
    "cfb.data              # What is the actual matrix comprising this operator?"
   ]
  },
  {
   "cell_type": "markdown",
   "metadata": {},
   "source": [
    "We can combine bases using the tensorproduct $\\otimes$ (in a code cell: type `\\otimes` and hit tab). Let's construct the combined basis of a spin-1/2 particle and some number states. This would be an appropriate basis for a two-level atom in a harmonic oscillator (where the number basis would span the harmonic oscillator states), or an atom coupled to a quantized field (such as in the Jaynes-Cummings model)."
   ]
  },
  {
   "cell_type": "code",
   "execution_count": 5,
   "metadata": {},
   "outputs": [
    {
     "data": {
      "text/plain": [
       "[Spin(1/2) ⊗ Fock(cutoff=10)]"
      ]
     },
     "execution_count": 5,
     "metadata": {},
     "output_type": "execute_result"
    }
   ],
   "source": [
    "comb_basis = sb ⊗ fb"
   ]
  },
  {
   "cell_type": "markdown",
   "metadata": {},
   "source": [
    "### Generating states"
   ]
  },
  {
   "cell_type": "markdown",
   "metadata": {},
   "source": [
    "When looking at dynamics, we'll need to specify an initial state, and when looking at eigenstates we'll also need an understanding of how QuantumOptics.jl deals with states. Some bases have predefined states, for instance:"
   ]
  },
  {
   "cell_type": "code",
   "execution_count": 8,
   "metadata": {},
   "outputs": [
    {
     "data": {
      "text/plain": [
       "Ket(dim=2)\n",
       "  basis: Spin(1/2)\n",
       " 0.0 + 0.0im\n",
       " 1.0 + 0.0im"
      ]
     },
     "execution_count": 8,
     "metadata": {},
     "output_type": "execute_result"
    }
   ],
   "source": [
    "sd = spindown(sb)                # Have the spin pointing down"
   ]
  },
  {
   "cell_type": "code",
   "execution_count": 9,
   "metadata": {},
   "outputs": [
    {
     "data": {
      "text/plain": [
       "Ket(dim=11)\n",
       "  basis: Fock(cutoff=10)\n",
       "  0.6065306597126334 + 0.0im\n",
       "  0.6065306597126334 + 0.0im\n",
       "  0.4288819424803534 + 0.0im\n",
       " 0.24761510494160163 + 0.0im\n",
       " 0.12380755247080082 + 0.0im\n",
       " 0.05536842069051653 + 0.0im\n",
       " 0.02260406309258736 + 0.0im\n",
       "  0.0085435327946571 + 0.0im\n",
       " 0.00302059498719585 + 0.0im\n",
       " 0.00100686499573195 + 0.0im\n",
       " 0.00031839866828087 + 0.0im"
      ]
     },
     "execution_count": 9,
     "metadata": {},
     "output_type": "execute_result"
    }
   ],
   "source": [
    "coh_st = coherentstate(fb, 1)   # Give me a coherent state"
   ]
  },
  {
   "cell_type": "markdown",
   "metadata": {},
   "source": [
    "It's also possible to define a generic ket or bra. We could also define our spin down state as follows:"
   ]
  },
  {
   "cell_type": "code",
   "execution_count": 10,
   "metadata": {},
   "outputs": [
    {
     "data": {
      "text/plain": [
       "Ket(dim=2)\n",
       "  basis: Spin(1/2)\n",
       " 0.0\n",
       " 1.0"
      ]
     },
     "execution_count": 10,
     "metadata": {},
     "output_type": "execute_result"
    }
   ],
   "source": [
    "sd = Ket(sb, [0, 1])"
   ]
  },
  {
   "cell_type": "markdown",
   "metadata": {},
   "source": [
    "Constructing a product state that spans multiple bases is also done with the tensor product. The following could be used to describe a two-level atom in its ground state, coupled to a quantized field with one photon on average."
   ]
  },
  {
   "cell_type": "code",
   "execution_count": 11,
   "metadata": {},
   "outputs": [
    {
     "data": {
      "text/plain": [
       "Ket(dim=22)\n",
       "  basis: [Spin(1/2) ⊗ Fock(cutoff=10)]\n",
       "                 0.0 + 0.0im\n",
       "  0.6065306597126334 + 0.0im\n",
       "                 0.0 + 0.0im\n",
       "  0.6065306597126334 + 0.0im\n",
       "                 0.0 + 0.0im\n",
       "  0.4288819424803534 + 0.0im\n",
       "                 0.0 + 0.0im\n",
       " 0.24761510494160163 + 0.0im\n",
       "                 0.0 + 0.0im\n",
       " 0.12380755247080082 + 0.0im\n",
       "                 0.0 + 0.0im\n",
       " 0.05536842069051653 + 0.0im\n",
       "                 0.0 + 0.0im\n",
       " 0.02260406309258736 + 0.0im\n",
       "                 0.0 + 0.0im\n",
       "  0.0085435327946571 + 0.0im\n",
       "                 0.0 + 0.0im\n",
       " 0.00302059498719585 + 0.0im\n",
       "                 0.0 + 0.0im\n",
       " 0.00100686499573195 + 0.0im\n",
       "                 0.0 + 0.0im\n",
       " 0.00031839866828087 + 0.0im"
      ]
     },
     "execution_count": 11,
     "metadata": {},
     "output_type": "execute_result"
    }
   ],
   "source": [
    "comb_state = sd ⊗ coh_st"
   ]
  },
  {
   "cell_type": "markdown",
   "metadata": {},
   "source": [
    "#### Expectation values"
   ]
  },
  {
   "cell_type": "markdown",
   "metadata": {},
   "source": [
    "Observables can be evaluated in the following way:"
   ]
  },
  {
   "cell_type": "code",
   "execution_count": 12,
   "metadata": {},
   "outputs": [
    {
     "data": {
      "text/plain": [
       "-1.0 + 0.0im"
      ]
     },
     "execution_count": 12,
     "metadata": {},
     "output_type": "execute_result"
    }
   ],
   "source": [
    "expect(sigmaz(sb), spindown(sb))            # <Sz> for a spin pointing down"
   ]
  },
  {
   "cell_type": "code",
   "execution_count": 13,
   "metadata": {},
   "outputs": [
    {
     "data": {
      "text/plain": [
       "0.9999998885745216 + 0.0im"
      ]
     },
     "execution_count": 13,
     "metadata": {},
     "output_type": "execute_result"
    }
   ],
   "source": [
    "expect(number(fb), coherentstate(fb, 1))    # The average number of photons, a little bit less than 1 due to the basis size"
   ]
  },
  {
   "cell_type": "markdown",
   "metadata": {},
   "source": [
    "When calculating expectation values on composite bases, it's important to make sure the operator is defined on that composite basis as well. The operator $S_z$, for instance, only acts on the spin sector of our composite basis. We can expand it by taking the tensor product with the identity operator: $S_z^{(f)} = S_z \\otimes \\mathcal{I}$:"
   ]
  },
  {
   "cell_type": "code",
   "execution_count": 14,
   "metadata": {},
   "outputs": [
    {
     "data": {
      "text/plain": [
       "-0.9999999899522336 + 0.0im"
      ]
     },
     "execution_count": 14,
     "metadata": {},
     "output_type": "execute_result"
    }
   ],
   "source": [
    "comb_sz = sigmaz(sb) ⊗ identityoperator(fb)\n",
    "expect(comb_sz, comb_state)"
   ]
  },
  {
   "cell_type": "markdown",
   "metadata": {},
   "source": [
    "### Simulating dynamics"
   ]
  },
  {
   "cell_type": "markdown",
   "metadata": {},
   "source": [
    "Let's have a look at the Jaynes-Cummings Hamiltonian (in the interaction picture, on resonance, and in units of $\\hbar$):\n",
    "$$\n",
    "    \\mathcal{H} = \\frac{\\Omega}{2} \\left( \\sigma_+ a + \\sigma_- a^\\dagger \\right)\n",
    "$$"
   ]
  },
  {
   "cell_type": "code",
   "execution_count": 15,
   "metadata": {},
   "outputs": [],
   "source": [
    "Ω = 1\n",
    "H = Ω / 2 * (sigmap(sb) ⊗ destroy(fb) + sigmam(sb) ⊗ create(fb));"
   ]
  },
  {
   "cell_type": "markdown",
   "metadata": {},
   "source": [
    "Calculating its ground state is simple (`eigenstate(H, 1)`), but it's not so interesting for this particular system. Let's have a look at some of the dynamics instead. We start with our atom in the ground state (spin down) and one photon in the field mode. "
   ]
  },
  {
   "cell_type": "code",
   "execution_count": 16,
   "metadata": {},
   "outputs": [],
   "source": [
    "tax = 0:0.01:10\n",
    "ψ0 = spindown(sb) ⊗ fockstate(fb, 1)\n",
    "tout, ψt = timeevolution.schroedinger( tax, ψ0, H );"
   ]
  },
  {
   "cell_type": "markdown",
   "metadata": {},
   "source": [
    "We need to extract some observables from the time-evolved state:"
   ]
  },
  {
   "cell_type": "code",
   "execution_count": 17,
   "metadata": {},
   "outputs": [
    {
     "data": {
      "image/png": "[encoded data removed]"
     },
     "execution_count": 17,
     "metadata": {},
     "output_type": "execute_result"
    }
   ],
   "source": [
    "num_t = real([ expect( identityoperator(sb) ⊗ number(fb), ψ ) for ψ in ψt ])\n",
    "spin_t = real([ expect( sigmaz(sb) ⊗ identityoperator(fb), ψ ) for ψ in ψt ])\n",
    "\n",
    "plot(tax, num_t, label = L\"\\langle n \\rangle\",\n",
    "    xlabel = L\"Time ($1/\\Omega$)\",\n",
    "    xguidefont = font(15),\n",
    "    tickfont = font(12),\n",
    "    legendfont = font(12))\n",
    "plot!(tax, spin_t ./2 .+ 0.5, label = L\"|g\\rangle\\langle g|\")"
   ]
  },
  {
   "cell_type": "markdown",
   "metadata": {},
   "source": [
    "#### Other cool features of QuantumOptics.jl\n",
    "* It's possible to do semiclassical calculations, where one or more of the observables is a classical variable.\n",
    "* Simulating open quantum systems, either using the density matrix or using the Monte-Carlo wave function method.\n",
    "* Very easy to use interface to many-body bases, states, and operators."
   ]
  }
 ],
 "metadata": {
  "kernelspec": {
   "display_name": "Julia 1.8.1",
   "language": "julia",
   "name": "julia-1.8"
  },
  "language_info": {
   "file_extension": ".jl",
   "mimetype": "application/julia",
   "name": "julia",
   "version": "1.8.1"
  },
  "widgets": {
   "application/vnd.jupyter.widget-state+json": {
    "state": {},
    "version_major": 2,
    "version_minor": 0
   }
  }
 },
 "nbformat": 4,
 "nbformat_minor": 4
}

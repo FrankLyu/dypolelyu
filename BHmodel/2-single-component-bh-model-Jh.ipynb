{
 "cells": [
  {
   "cell_type": "markdown",
   "metadata": {},
   "source": [
    "## Single-component Bose-Hubbard model: Ground state properties"
   ]
  },
  {
   "cell_type": "code",
   "execution_count": 1,
   "metadata": {},
   "outputs": [
    {
     "data": {
      "text/plain": [
       "Plots.PyPlotBackend()"
      ]
     },
     "execution_count": 1,
     "metadata": {},
     "output_type": "execute_result"
    }
   ],
   "source": [
    "using QuantumOptics\n",
    "using Plots\n",
    "using Arpack\n",
    "using ArnoldiMethod\n",
    "using DelimitedFiles\n",
    "using LaTeXStrings\n",
    "using LinearAlgebra\n",
    "using Statistics\n",
    "pyplot()"
   ]
  },
  {
   "cell_type": "markdown",
   "metadata": {},
   "source": [
    "### Set up the basis\n",
    "We start by setting up the basis. We have `Nparticles` living on `Nsites`, and we use the QuantumOptics function `NLevelBasis()` to account for our sites. Each site is one level, which can be occupied by as many particles as we want (since we're dealing with bosons). For the basis size this is a little troublesome, since it leads to a large number of basis states. "
   ]
  },
  {
   "cell_type": "code",
   "execution_count": 2,
   "metadata": {},
   "outputs": [
    {
     "data": {
      "text/plain": [
       "ManyBody(onebodybasis=NLevel(N=6), states:462)"
      ]
     },
     "execution_count": 2,
     "metadata": {},
     "output_type": "execute_result"
    }
   ],
   "source": [
    "Nsites = 6                             # Actual number of physical sites is half this, we encode particle types at different sites\n",
    "Nparticles = 6                      # To define the rotated state we initially need double the number of particles\n",
    "a = NLevelBasis(Nsites)\n",
    "a_mb = ManyBodyBasis(a, bosonstates(a, Nparticles))"
   ]
  },
  {
   "cell_type": "markdown",
   "metadata": {},
   "source": [
    "The many-body basis is spanned by the different occupations on every site. We can inspect the occupation numbers:"
   ]
  },
  {
   "cell_type": "code",
   "execution_count": 3,
   "metadata": {},
   "outputs": [
    {
     "data": {
      "text/plain": [
       "462"
      ]
     },
     "execution_count": 3,
     "metadata": {},
     "output_type": "execute_result"
    }
   ],
   "source": [
    "Dim=size(a_mb.occupations)[1] # Dimension of the Hilbert Space"
   ]
  },
  {
   "cell_type": "code",
   "execution_count": 90,
   "metadata": {},
   "outputs": [],
   "source": []
  },
  {
   "cell_type": "markdown",
   "metadata": {},
   "source": [
    "### Set up the Hamiltonian"
   ]
  },
  {
   "cell_type": "markdown",
   "metadata": {},
   "source": [
    "The Hamiltonian contains two terms, a tunneling term, and an on-site interaction term, respectively. If we express all energies in units of the tunneling rate $t$ the only free parameter is the on-site interaction $U$:\n",
    "$$\n",
    "    \\mathcal{H} = -\\sum_{\\langle i,j \\rangle} \\hat{a}^\\dagger_i \\hat{a}_j + \\frac{U}{2} \\sum_i \\hat{n}_i \\left( \\hat{n}_i - 1 \\right)\n",
    "$$\n",
    "\n",
    "This Hamiltonian equation is actually the same as\n",
    "\n",
    "$$\n",
    "    \\mathcal{H} = \\sum_{j=1}^N J_x\\left(\\sigma_j^x \\sigma_{j+1}^x+\\sigma_j^y \\sigma_{j+1}^y\\right)+J_z \\sigma_j^z \\sigma_{j+1}^z\n",
    "$$"
   ]
  },
  {
   "cell_type": "code",
   "execution_count": 91,
   "metadata": {},
   "outputs": [],
   "source": [
    "single_tunnel = [transition(a, i, i + 1) for i in 1 : (Nsites - 1)]\n",
    "#single_tunnel = vcat(single_tunnel, transition(a,Nsites,1))\n",
    "single_tunnel = [dagger.(single_tunnel); single_tunnel]\n",
    "total_tunnel_s = sum([manybodyoperator(a_mb, t) for t in single_tunnel]);\n",
    "onsite_interaction = sum( [ number(a_mb, i) * (number(a_mb, i) - identityoperator(a_mb)) for i in 1:Nsites ] );"
   ]
  },
  {
   "cell_type": "markdown",
   "metadata": {},
   "source": [
    "Define the Hamiltonian with all energies in units of $t$, the tunneling matrix element."
   ]
  },
  {
   "cell_type": "code",
   "execution_count": 93,
   "metadata": {},
   "outputs": [
    {
     "data": {
      "text/plain": [
       "Operator(dim=462x462)\n",
       "  basis: ManyBody(onebodybasis=NLevel(N=6), states:462)sparse([1, 2, 1, 2, 3, 7, 2, 3, 4, 8  …  454, 459, 460, 461, 455, 460, 461, 462, 461, 462], [1, 1, 2, 2, 2, 2, 3, 3, 3, 3  …  460, 460, 460, 460, 461, 461, 461, 461, 462, 462], ComplexF64[30.0 + 0.0im, -2.449489742783178 + 0.0im, -2.449489742783178 + 0.0im, 20.0 + 0.0im, -1.0 + 0.0im, -3.1622776601683795 + 0.0im, -1.0 + 0.0im, 20.0 + 0.0im, -1.0 + 0.0im, -2.23606797749979 + 0.0im  …  -1.4142135623730951 + 0.0im, -3.4641016151377544 + 0.0im, 14.0 + 0.0im, -3.1622776601683795 + 0.0im, -1.0 + 0.0im, -3.1622776601683795 + 0.0im, 20.0 + 0.0im, -2.449489742783178 + 0.0im, -2.449489742783178 + 0.0im, 30.0 + 0.0im], 462, 462)"
      ]
     },
     "execution_count": 93,
     "metadata": {},
     "output_type": "execute_result"
    }
   ],
   "source": [
    "H(U) = -total_tunnel_s + U/2 * onsite_interaction\n",
    "\n",
    "Htemp = -total_tunnel_s + 2/2 * onsite_interaction"
   ]
  },
  {
   "cell_type": "markdown",
   "metadata": {},
   "source": [
    "### Time evolution"
   ]
  },
  {
   "cell_type": "markdown",
   "metadata": {},
   "source": []
  },
  {
   "cell_type": "code",
   "execution_count": 94,
   "metadata": {},
   "outputs": [],
   "source": []
  },
  {
   "cell_type": "code",
   "execution_count": 96,
   "metadata": {},
   "outputs": [
    {
     "data": {
      "text/plain": [
       "600-element Vector{Float64}:\n",
       " 2.090068820036171\n",
       " 1.8054663164326215\n",
       " 0.2151757358135047\n",
       " 0.41188118394279094\n",
       " 1.1230995764692029\n",
       " 0.21216099597112503\n",
       " 0.5658381200732521\n",
       " 0.2541752464443263\n",
       " 0.6093561590739096\n",
       " 0.27017322415719747\n",
       " 0.0009088414925617627\n",
       " 0.45033406949639865\n",
       " 0.012454746437088104\n",
       " ⋮\n",
       " 0.14115593185923814\n",
       " 0.2583180252434829\n",
       " 0.026796948635844586\n",
       " 0.8473373936620874\n",
       " 0.16451704575844417\n",
       " 0.2824383997487132\n",
       " 0.11925408332388443\n",
       " 0.25276716704781776\n",
       " 0.17852284887369763\n",
       " 2.2875453491874076\n",
       " 0.01684797219826706\n",
       " 0.010089434312156698"
      ]
     },
     "execution_count": 96,
     "metadata": {},
     "output_type": "execute_result"
    }
   ],
   "source": [
    "Energy_Spectrum=eigenstates(dense(H(0.5)))[1]\n",
    "E_Spacing = [Energy_Spectrum[i]-Energy_Spectrum[i-1] for i in 2 : (Dim)]\n",
    "filter!(x->x>1e-10,E_Spacing)"
   ]
  },
  {
   "cell_type": "code",
   "execution_count": 107,
   "metadata": {},
   "outputs": [
    {
     "data": {
      "image/png": "[encoded data removed]"
     },
     "execution_count": 107,
     "metadata": {},
     "output_type": "execute_result"
    }
   ],
   "source": [
    "histogram(Energy_Spectrum,bins=500)"
   ]
  },
  {
   "cell_type": "code",
   "execution_count": 105,
   "metadata": {},
   "outputs": [
    {
     "data": {
      "image/png": "[encoded data removed]"
     },
     "execution_count": 105,
     "metadata": {},
     "output_type": "execute_result"
    }
   ],
   "source": [
    "histogram(E_Spacing,bins=0:0.002:0.25)"
   ]
  },
  {
   "cell_type": "markdown",
   "metadata": {},
   "source": [
    "One hallmark of the Mott-insulating state is that the number fluctuations disappear as we increase the lattice depth. We can calculate these by evaluating the expectation values for the operators $\\hat{n_i}$ and $\\hat{n_i}^2$, and averaging them over all sites."
   ]
  },
  {
   "cell_type": "code",
   "execution_count": 45,
   "metadata": {},
   "outputs": [
    {
     "data": {
      "text/plain": [
       "Δn (generic function with 1 method)"
      ]
     },
     "execution_count": 45,
     "metadata": {},
     "output_type": "execute_result"
    }
   ],
   "source": [
    "Δn(ψ) = sqrt.( mean(real.( [expect(number(a_mb, i)^2, ψ) - expect(number(a_mb, i), ψ)^2 for i in 1:Nsites ] )) )"
   ]
  },
  {
   "cell_type": "code",
   "execution_count": 46,
   "metadata": {},
   "outputs": [
    {
     "data": {
      "image/png": "[encoded data removed]"
     },
     "execution_count": 46,
     "metadata": {},
     "output_type": "execute_result"
    }
   ],
   "source": [
    "us = 0:0.1:20\n",
    "dat = [Δn( getGS(u) ) for u in us];\n",
    "\n",
    "plot(us, dat,\n",
    "    label = \"test\",\n",
    "    linewidth = 2,\n",
    "    xlabel = L\"U/t\",\n",
    "    ylabel = L\"\\sqrt{\\langle n^2 \\rangle - \\langle n \\rangle^2}\",\n",
    "    xguidefont = font(15),\n",
    "    yguidefont = font(15),\n",
    "    tickfont = font(12),\n",
    "    leg = false)"
   ]
  },
  {
   "cell_type": "markdown",
   "metadata": {},
   "source": [
    "We can also look at the behavior on every site individually:"
   ]
  },
  {
   "cell_type": "code",
   "execution_count": 47,
   "metadata": {},
   "outputs": [
    {
     "data": {
      "text/plain": [
       "Δn_ps (generic function with 1 method)"
      ]
     },
     "execution_count": 47,
     "metadata": {},
     "output_type": "execute_result"
    }
   ],
   "source": [
    "Δn_ps(ψ) = [sqrt.( real( expect(number(a_mb, i)^2, ψ) - expect(number(a_mb, i), ψ)^2 ) ) for i in 1:Nsites ]"
   ]
  },
  {
   "cell_type": "code",
   "execution_count": 48,
   "metadata": {},
   "outputs": [],
   "source": [
    "us = 0:0.1:20\n",
    "dat = [Δn_ps( getGS(u) ) for u in us];"
   ]
  },
  {
   "cell_type": "code",
   "execution_count": 49,
   "metadata": {},
   "outputs": [
    {
     "data": {
      "image/png": "[encoded data removed]"
     },
     "execution_count": 49,
     "metadata": {},
     "output_type": "execute_result"
    }
   ],
   "source": [
    "heatmap(us, 1:Nsites, hcat(dat...),\n",
    "    xlabel = L\"U/t\",\n",
    "    ylabel = \"Site\",\n",
    "    xguidefont = font(15),\n",
    "    yguidefont = font(15),\n",
    "    tickfont = font(12))"
   ]
  },
  {
   "cell_type": "code",
   "execution_count": 54,
   "metadata": {},
   "outputs": [
    {
     "data": {
      "text/plain": [
       "101-element Vector{Float64}:\n",
       " 0.0\n",
       " 0.01\n",
       " 0.02\n",
       " 0.03\n",
       " 0.04\n",
       " 0.05\n",
       " 0.06\n",
       " 0.07\n",
       " 0.08\n",
       " 0.09\n",
       " 0.1\n",
       " 0.11\n",
       " 0.12\n",
       " ⋮\n",
       " 0.89\n",
       " 0.9\n",
       " 0.91\n",
       " 0.92\n",
       " 0.93\n",
       " 0.94\n",
       " 0.95\n",
       " 0.96\n",
       " 0.97\n",
       " 0.98\n",
       " 0.99\n",
       " 1.0"
      ]
     },
     "execution_count": 54,
     "metadata": {},
     "output_type": "execute_result"
    }
   ],
   "source": [
    "tspan = [0:0.01:1;]\n"
   ]
  },
  {
   "cell_type": "code",
   "execution_count": null,
   "metadata": {},
   "outputs": [],
   "source": []
  },
  {
   "cell_type": "code",
   "execution_count": null,
   "metadata": {},
   "outputs": [],
   "source": []
  }
 ],
 "metadata": {
  "kernelspec": {
   "display_name": "Julia 1.8.1",
   "language": "julia",
   "name": "julia-1.8"
  },
  "language_info": {
   "file_extension": ".jl",
   "mimetype": "application/julia",
   "name": "julia",
   "version": "1.8.1"
  },
  "widgets": {
   "application/vnd.jupyter.widget-state+json": {
    "state": {},
    "version_major": 2,
    "version_minor": 0
   }
  }
 },
 "nbformat": 4,
 "nbformat_minor": 4
}
